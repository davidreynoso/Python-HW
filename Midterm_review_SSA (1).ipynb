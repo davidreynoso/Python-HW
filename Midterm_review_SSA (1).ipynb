{
 "cells": [
  {
   "cell_type": "markdown",
   "id": "eaa9217d",
   "metadata": {},
   "source": [
    "# SSA PIC 16A Midterm Review - Winter 2023\n",
    "Topics in today's review notebook (doesn't include everything on the midterm):\n",
    "1. Mutable and Immutable objects (Python variables)\n",
    "2. Containers in Python (lists, strings, tuples, sets, dicts)\n",
    "3. List comprehensions\n",
    "4. Lambda functions\n",
    "5. Functions and scope\n",
    "6. Numpy broadcasting\n",
    "7. Iterators and Generators"
   ]
  },
  {
   "cell_type": "markdown",
   "id": "ba56a73e",
   "metadata": {},
   "source": [
    "### 1. Mutable and Immutable Objects"
   ]
  },
  {
   "cell_type": "markdown",
   "id": "c0323071",
   "metadata": {},
   "source": [
    "An object whose internal state can be changed is mutable. On the other hand, immutable doesn’t allow any change in the object once it has been created. Both of these states are integral to Python data structure. \n",
    "\n",
    "Mutable is when something is changeable or has the ability to change. In Python, ‘mutability’ is the ability of objects to change their values. These are often the objects that store a collection of data. Mutable objects are:\n",
    "* Lists\n",
    "* Dictionaries\n",
    "* Sets\n",
    "* User-defined classes\n",
    "\n",
    "Immutable is when no change is possible over time. In Python, if the value of an object cannot be changed over time, then it is known as immutable. Once created, the value of these objects is permanent. Immutable objects are:\n",
    "* Numeric literals (int/float/complex)\n",
    "* Strings\n",
    "* Tuples\n",
    "* Boolean\n",
    "* Frozen sets\n",
    "\n",
    "Mutable and immutable objects are handled differently in python. Immutable objects are quicker to access and are expensive to change because it involves the creation of a copy. Whereas mutable objects are easy to change. Use of mutable objects is recommended when there is a need to change the size or content of the object."
   ]
  },
  {
   "cell_type": "markdown",
   "id": "96dce40c",
   "metadata": {},
   "source": [
    "### 2. Containers in Python"
   ]
  },
  {
   "cell_type": "markdown",
   "id": "fd3d1907",
   "metadata": {},
   "source": [
    "#### Strings\n",
    "* Strings are sequences of characters.\n",
    "* Strings are immutable.\n",
    "* Strings are created using single or double quotes.\n",
    "* Strings can be concatenated using + operator.\n",
    "* Strings can be sliced using the : operator.\n",
    "* Strings can be indexed using the [] operator.\n",
    "* Strings can be split into a list of words using the `split()` method.\n",
    "* Strings can be converted to upper or lower case using the `upper()` or `lower()` methods."
   ]
  },
  {
   "cell_type": "code",
   "execution_count": 62,
   "id": "6160369d",
   "metadata": {},
   "outputs": [
    {
     "name": "stdout",
     "output_type": "stream",
     "text": [
      "Jonathan Smith\n",
      "Jona\n",
      "Jonathan S\n",
      "htimS nahtanoJ\n",
      "htimS nahtanoJ\n",
      "Jnta mt\n",
      "This won't work: \n",
      "Jonathan\n",
      "Smith\n",
      "Jonathan--Smith\n",
      "['Jona', 'han Smi', 'h']\n"
     ]
    }
   ],
   "source": [
    "name = \"Jonathan Smith\"\n",
    "print(name)\n",
    "print(name[0:4]) #[start:(stop-1)] [0:n] --> [0 to n-1]\n",
    "print(name[:10]) #[0:(stop-1)]\n",
    "#name[3] = 'i' #This will cause an error\n",
    "print(name[::-1]) #Reverse the string\n",
    "print(name[-1::-1]) #Reverse the string\n",
    "print(name[::2]) #Print every other character\n",
    "print(\"This won't work:\",name[0:14:-1]) #Range is in the wrong direction\n",
    "first = name.split()[0]\n",
    "last = name.split()[1]\n",
    "print(first)\n",
    "print(last)\n",
    "print(first+\"--\"+last) #string concatenation\n",
    "words = name.split(\"t\") #if no parameter is specified, space is default parameter\n",
    "print(words)"
   ]
  },
  {
   "cell_type": "markdown",
   "id": "894b0cf0",
   "metadata": {},
   "source": [
    "#### Lists\n",
    "* Lists are a collection of items in a particular order. \n",
    "* They are denoted by square brackets. \n",
    "* The items in the list can be of any type and can be duplicates. \n",
    "* They are separated by commas and can be empty. \n",
    "* They are mutable."
   ]
  },
  {
   "cell_type": "code",
   "execution_count": null,
   "id": "eeac0be9",
   "metadata": {},
   "outputs": [
    {
     "name": "stdout",
     "output_type": "stream",
     "text": [
      "[1, 2, 3, 4, 5, 3, 4, 5]\n",
      "[10, 2, 3, 4, 5, 3, 4, 5]\n",
      "[10, 2, 3, 4, 5, 3, 4, 5, 6, 4, 3]\n",
      "True\n",
      "True\n",
      "140296190406464 140296190406464 140296190303616\n",
      "[10, 20, 3, 4, 5] [10, 20, 3, 4, 5] [1, 2, 3, 4, 5]\n",
      "140296190406464 140296190406464 140296190303616\n"
     ]
    }
   ],
   "source": [
    "ll = [1,2,3,4,5,3,4,5]\n",
    "print(ll)\n",
    "ll[0] = 10\n",
    "print(ll)\n",
    "ll.append(6) #similar to vector.push_back() in C++\n",
    "ll.append(4)\n",
    "ll.append(3)\n",
    "print(ll)\n",
    "# Showing mutability of lists\n",
    "list1 = [1,2,3,4,5]\n",
    "list2 = list1\n",
    "list3 = [1,2,3,4,5]\n",
    "print(list1==list2)\n",
    "print(list1==list3)\n",
    "print(id(list1), id(list2), id(list3))\n",
    "list1[0] = 10\n",
    "list2[1] = 20\n",
    "print(list1, list2, list3)\n",
    "print(id(list1), id(list2), id(list3))"
   ]
  },
  {
   "cell_type": "code",
   "execution_count": 97,
   "id": "0b559b7e",
   "metadata": {},
   "outputs": [
    {
     "name": "stdout",
     "output_type": "stream",
     "text": [
      "[0, 1, 2] 140324516788416 [0, 1, 2] 140324516788416\n",
      "True\n",
      "[0, 1, 2] 140324516788416 [0, 1, 2, 3, 4, 5] 140324783358976\n",
      "False\n"
     ]
    }
   ],
   "source": [
    "L0 = [0,1,2]\n",
    "L = L0\n",
    "print(L0, id(L0), L, id(L))\n",
    "print(L0 is L)\n",
    "L = L + [3,4,5] #This creates a new list and assigns it to L (__add__() magic method for lists class)\n",
    "print(L0, id(L0), L, id(L))\n",
    "print(L0 is L)"
   ]
  },
  {
   "cell_type": "code",
   "execution_count": 89,
   "id": "931b61a7",
   "metadata": {},
   "outputs": [
    {
     "name": "stdout",
     "output_type": "stream",
     "text": [
      "[0, 1, 2] 140324509058112 [0, 1, 2] 140324509058112\n",
      "True\n",
      "[0, 1, 2, 3, 4, 5] 140324509058112 [0, 1, 2, 3, 4, 5] 140324509058112\n",
      "True\n"
     ]
    }
   ],
   "source": [
    "L0 = [0,1,2]\n",
    "L = L0\n",
    "print(L0, id(L0), L, id(L))\n",
    "print(L0 is L)\n",
    "L.append(3) # This is different from L = L + [3]\n",
    "L.append(4)\n",
    "L.append(5) # This is different from L = L + [5]\n",
    "print(L0, id(L0), L, id(L))\n",
    "print(L0 is L)"
   ]
  },
  {
   "cell_type": "code",
   "execution_count": 90,
   "id": "04925b83",
   "metadata": {},
   "outputs": [
    {
     "name": "stdout",
     "output_type": "stream",
     "text": [
      "[0, 1, 2] 140324516692608 [0, 1, 2] 140324516692608\n",
      "True\n",
      "[0, 1, 2, 3, 4, 5] 140324516692608 [0, 1, 2, 3, 4, 5] 140324516692608\n",
      "True\n"
     ]
    }
   ],
   "source": [
    "L0 = [0,1,2]\n",
    "L = L0\n",
    "print(L0, id(L0), L, id(L))\n",
    "print(L0 is L)\n",
    "L += [3,4,5] #This is different from L = L + [3,4,5] (__iadd__() magic method for lists class)\n",
    "print(L0, id(L0), L, id(L))\n",
    "print(L0 is L)"
   ]
  },
  {
   "cell_type": "markdown",
   "id": "a91d9f95",
   "metadata": {},
   "source": [
    "#### Sets\n",
    "* Sets are a collection of items in no particular order. \n",
    "* They are denoted by curly brackets.\n",
    "* They are unordered and unindexed.\n",
    "* They cannot contain duplicate items.\n",
    "* They are mutable."
   ]
  },
  {
   "cell_type": "code",
   "execution_count": 28,
   "id": "7bc318ee",
   "metadata": {},
   "outputs": [
    {
     "name": "stdout",
     "output_type": "stream",
     "text": [
      "{1, 2, 3, 4, 5}\n",
      "{1, 2, 3, 4, 5, 10}\n",
      "{1, 2, 4, 5, 10}\n",
      "Unique elements of ll: [1, 2, 3, 4, 5, 6]\n"
     ]
    }
   ],
   "source": [
    "ll = [1,2,3,4,5,3,4,5,6,4,3]\n",
    "ss = {1,2,3,3,4,4,5,5}\n",
    "print(ss)\n",
    "ss.add(10)\n",
    "print(ss)\n",
    "ss.remove(3)\n",
    "print(ss)\n",
    "#Lists can be converted to sets\n",
    "ss2 = set(ll) #All duplicates are removed\n",
    "ll = list(ss2)\n",
    "print('Unique elements of ll:',ll)"
   ]
  },
  {
   "cell_type": "markdown",
   "id": "696fb736",
   "metadata": {},
   "source": [
    "* The `frozenset()` function returns an immutable frozenset object initialized with elements from the given iterable.\n",
    "* Frozen set is just an immutable version of a Python set object. While elements of a set can be modified at any time, elements of the frozen set remain the same after creation.\n",
    "* Due to this, frozen sets can be used as keys in Dictionary or as elements of another set. But like sets, it is not ordered (the elements can be set at any index).\n",
    "* The syntax of `frozenset()` function is: `frozenset([iterable])`"
   ]
  },
  {
   "cell_type": "markdown",
   "id": "3b33098c",
   "metadata": {},
   "source": [
    "#### Tuples\n",
    "* Tuples are used to store multiple items in a single variable\n",
    "* Tuples are used to store data that is ordered (indexed) and not changing\n",
    "* Tuples are immutable and allow duplicate values\n",
    "* Tuples are created with parentheses `()`\n",
    "* Tuples are created with a comma separated list of items\n",
    "* The length of a tuple can be known with the `len()` function"
   ]
  },
  {
   "cell_type": "code",
   "execution_count": 43,
   "id": "d0cbf061",
   "metadata": {},
   "outputs": [
    {
     "name": "stdout",
     "output_type": "stream",
     "text": [
      "(1, 2, 3, 4, 5, 3, 4, 5)\n",
      "1\n",
      "8\n"
     ]
    }
   ],
   "source": [
    "tup = (1,2,3,4,5,3,4,5)\n",
    "print(tup)\n",
    "print(tup[0])\n",
    "#tup[2] = 10 # This will throw an error\n",
    "print(len(tup))"
   ]
  },
  {
   "cell_type": "markdown",
   "id": "9e0c32ae",
   "metadata": {},
   "source": [
    "#### Dictionaries\n",
    "* Dictionaries are used to store data in key:value pairs\n",
    "* Dictionaries are created with curly braces `{}`\n",
    "* Dictionaries are created with a comma separated list of key:value pairs\n",
    "* The length of a dictionary can be known with the `len()` function\n",
    "* The keys of a dictionary can be accessed with the `keys()` function\n",
    "* The values of a dictionary can be accessed with the `values()` function\n",
    "* The items of a dictionary can be accessed with the `items()` function\n",
    "* The `get()` function can be used to retrieve a value from a dictionary\n",
    "* They are mutable and allow duplicate values but keys must be unique"
   ]
  },
  {
   "cell_type": "code",
   "execution_count": 44,
   "id": "975c2051",
   "metadata": {},
   "outputs": [
    {
     "name": "stdout",
     "output_type": "stream",
     "text": [
      "1\n",
      "2\n",
      "dict_items([('a', 1), ('b', 2), ('c', 3), ('d', 3), ('e', 4)])\n",
      "dict_keys(['a', 'b', 'c', 'd', 'e'])\n",
      "dict_values([1, 2, 3, 3, 4])\n",
      "1\n",
      "None\n",
      "0\n",
      "{'a': 1, 'b': 2, 'c': 3, 'd': 3, 'e': 4, 'f': 10}\n"
     ]
    }
   ],
   "source": [
    "dd = {'a':1,'b':2,'c':3, 'd':3, 'e':4}\n",
    "print(dd['a'])\n",
    "print(dd['b'])\n",
    "print(dd.items())\n",
    "print(dd.keys())\n",
    "print(dd.values())\n",
    "print(dd.get('a'))\n",
    "print(dd.get('f')) # This will return None\n",
    "print(dd.get('f', 0)) # This will return 0 (default value)\n",
    "dd['f'] = 10 # This will add a new key-value pair\n",
    "print(dd)"
   ]
  },
  {
   "cell_type": "markdown",
   "id": "e5fe3630",
   "metadata": {},
   "source": [
    "### 3. List Comprehensions"
   ]
  },
  {
   "cell_type": "markdown",
   "id": "0cc3190e",
   "metadata": {},
   "source": [
    "List comprehensions are fancy-python syntax used for creating lists from iterables like tuples, strings, arrays, lists, etc. \n",
    "\n",
    "Syntax: `newList = [expression(element) for element in oldList if condition]`\n",
    "\n",
    "**Advantages of List Comprehension**\n",
    "* More time-efficient and space-efficient than loops.\n",
    "* Require fewer lines of code.\n",
    "* Transforms iterative statement into a formula.\n",
    "\n",
    "**Variations of list comprehensions**\n",
    "1. Basic list comprehension\n",
    "2. List comprehension with if statement\n",
    "3. List comprehension using nested for loops\n",
    "4. List comprehension for working with list of lists using nested for loops"
   ]
  },
  {
   "cell_type": "code",
   "execution_count": 98,
   "id": "d6470c33",
   "metadata": {},
   "outputs": [
    {
     "name": "stdout",
     "output_type": "stream",
     "text": [
      "[0, 1, 4, 9, 16, 25, 36, 49, 64, 81]\n",
      "[0, 1, 4, 9, 16, 25, 36, 49, 64, 81]\n"
     ]
    }
   ],
   "source": [
    "# Basic list comprehension\n",
    "L1 = []\n",
    "for x in range(10):\n",
    "    L1.append(x**2)\n",
    "print(L1)\n",
    "\n",
    "L = [x**2 for x in range(10)]\n",
    "print(L)"
   ]
  },
  {
   "cell_type": "code",
   "execution_count": 47,
   "id": "a689c424",
   "metadata": {},
   "outputs": [
    {
     "name": "stdout",
     "output_type": "stream",
     "text": [
      "[0, 4, 16, 36, 64, 100, 144, 196, 256, 324]\n",
      "[0, 4, 16, 36, 64, 100, 144, 196, 256, 324]\n"
     ]
    }
   ],
   "source": [
    "# List comprehension with if statement\n",
    "L1 = []\n",
    "for x in range(20):\n",
    "    if x%2 == 0:\n",
    "        L1.append(x**2)\n",
    "print(L1)\n",
    "\n",
    "L = [x**2 for x in range(20) if x%2 == 0]\n",
    "print(L)"
   ]
  },
  {
   "cell_type": "code",
   "execution_count": 48,
   "id": "23d3ed28",
   "metadata": {},
   "outputs": [
    {
     "name": "stdout",
     "output_type": "stream",
     "text": [
      "[0, 1, 2, 1, 2, 3, 2, 3, 4, 3, 4, 5, 4, 5, 6]\n",
      "[0, 1, 2, 1, 2, 3, 2, 3, 4, 3, 4, 5, 4, 5, 6]\n"
     ]
    }
   ],
   "source": [
    "# List comprehension using nested for loops\n",
    "L1 = []\n",
    "for x in range(5):\n",
    "    for y in range(3):\n",
    "        L1.append(x+y)\n",
    "print(L1)\n",
    "\n",
    "L = [x+y for x in range(5) for y in range(3)]\n",
    "print(L)"
   ]
  },
  {
   "cell_type": "code",
   "execution_count": 49,
   "id": "601fbe23",
   "metadata": {},
   "outputs": [
    {
     "name": "stdout",
     "output_type": "stream",
     "text": [
      "[[0, 1, 2], [1, 2, 3], [2, 3, 4], [3, 4, 5], [4, 5, 6]]\n"
     ]
    }
   ],
   "source": [
    "# List comprehension for working with list of lists using nested for loops\n",
    "L1 = []\n",
    "for x in range(5):\n",
    "    row = []\n",
    "    for y in range(3):\n",
    "        row.append(x+y)\n",
    "    L1.append(row)\n",
    "\n",
    "print(L1)\n",
    "\n",
    "L = [[x+y for y in range(3)] for x in range(5)]"
   ]
  },
  {
   "cell_type": "markdown",
   "id": "5c4a668b",
   "metadata": {},
   "source": [
    "**Dictionary and Set Comprehensions**\n",
    "\n",
    "Syntax for dictionary comprehension: `{key: value for element in iterable}`\n",
    "\n",
    "Syntax for set comprehension: `{element for element in iterable}`"
   ]
  },
  {
   "cell_type": "markdown",
   "id": "78e70d43",
   "metadata": {},
   "source": [
    "### 4. Lambda Functions"
   ]
  },
  {
   "cell_type": "markdown",
   "id": "fe9b16aa",
   "metadata": {},
   "source": [
    "Python Lambda Functions are anonymous function meaning that the function exists without a name. As we already know, the `def` keyword is used to define a normal function in Python. Similarly, the `lambda` keyword is used to define an anonymous function in Python. \n",
    "\n",
    "The syntax would be: `val(optional) = lambda arguments: expression` "
   ]
  },
  {
   "cell_type": "code",
   "execution_count": 102,
   "id": "86f06f8f",
   "metadata": {},
   "outputs": [
    {
     "name": "stdout",
     "output_type": "stream",
     "text": [
      "Avengers\n"
     ]
    }
   ],
   "source": [
    "# Python program to demonstrate\n",
    "# lambda functions\n",
    " \n",
    "x = \"Avengers\"\n",
    " \n",
    "# lambda gets pass to print\n",
    "output = lambda x: print(x)\n",
    "output(x)"
   ]
  },
  {
   "cell_type": "markdown",
   "id": "d2652615",
   "metadata": {},
   "source": [
    "Difference between `lambda` functions and `def` defined function"
   ]
  },
  {
   "cell_type": "code",
   "execution_count": 103,
   "id": "4c988081",
   "metadata": {},
   "outputs": [
    {
     "name": "stdout",
     "output_type": "stream",
     "text": [
      "125\n",
      "125\n"
     ]
    }
   ],
   "source": [
    "# Python code to illustrate cube of a number\n",
    "# showing difference between def() and lambda()\n",
    "\n",
    "def def_cube(y):\n",
    "    return y*y*y # y**3\n",
    " \n",
    "lambda_cube = lambda x: x**3\n",
    " \n",
    "# using the normally defined function\n",
    "print(def_cube(5))\n",
    " \n",
    "# using the lambda function\n",
    "print(lambda_cube(5))"
   ]
  },
  {
   "cell_type": "markdown",
   "id": "4529387f",
   "metadata": {},
   "source": [
    "As we can see in the above example both the `cube()` function and `lambda_cube()` function behave the same and as intended. Let’s analyze the above example a bit more:\n",
    "\n",
    "**Without Lambda:** Here, both of them return the cube of a given number. But, while using `def`, we needed to define a function and needed to pass a value to it. After execution, we also needed to return the result from where the function was called using the `return` keyword.\n",
    "\n",
    "**With Lambda:** Lambda definition does not include a `return` statement, it always contains an expression that is returned/printed. We can also put a `lambda` definition anywhere a function is expected, and we don’t have to assign it to a variable at all. This is the simplicity of `lambda` functions."
   ]
  },
  {
   "cell_type": "code",
   "execution_count": 65,
   "id": "b96f411f",
   "metadata": {},
   "outputs": [
    {
     "name": "stdout",
     "output_type": "stream",
     "text": [
      "24\n",
      "24\n",
      "25\n",
      "24\n",
      "25\n"
     ]
    }
   ],
   "source": [
    "# Python code to illustrate lambda function\n",
    "# with multiple parameters and default values\n",
    "\n",
    "f1 = lambda x, y: x * y\n",
    "f2 = lambda x, y, z = 0: x * y + z\n",
    "f3 = lambda x, y, z = 0: f1(x, y) + z\n",
    "\n",
    "print(f1(4, 6))\n",
    "print(f2(4, 6))\n",
    "print(f2(4, 6, 1))\n",
    "print(f3(4, 6))\n",
    "print(f3(4, 6, 1))"
   ]
  },
  {
   "cell_type": "markdown",
   "id": "af337ea5",
   "metadata": {},
   "source": [
    "#### Lambda functions for Sorting\n",
    "\n",
    "Lists in python can be sorted using `sorted()` based on some function of the elements present in them."
   ]
  },
  {
   "cell_type": "code",
   "execution_count": 104,
   "id": "9413a581",
   "metadata": {},
   "outputs": [
    {
     "name": "stdout",
     "output_type": "stream",
     "text": [
      "[('Jake', 7), ('Jack', 5), ('Sam', 3), ('Mark', 1)]\n"
     ]
    }
   ],
   "source": [
    "l = [(\"Mark\", 1), (\"Jack\", 5), (\"Jake\", 7), (\"Sam\", 3)]\n",
    "l = sorted(l, key = lambda x: -x[1])\n",
    "# l = sorted(l)\n",
    "print(l)"
   ]
  },
  {
   "cell_type": "markdown",
   "id": "2a468671",
   "metadata": {},
   "source": [
    "Sorting can be carried out at multiple hierarchical levels"
   ]
  },
  {
   "cell_type": "code",
   "execution_count": 69,
   "id": "9d9b1e0f",
   "metadata": {},
   "outputs": [
    {
     "name": "stdout",
     "output_type": "stream",
     "text": [
      "[('Jake', 3), ('Mark', 1), ('Jack', 4), ('Sam', 2)]\n"
     ]
    }
   ],
   "source": [
    "l = [(\"Mark\", 1), (\"Jack\", 4), (\"Jake\", 3), (\"Sam\", 2)]\n",
    "l = sorted(l, key = lambda x: (-(x[1] % 2), -x[1])) # Sort by odd-even and then by descending order\n",
    "print(l)"
   ]
  },
  {
   "cell_type": "markdown",
   "id": "2448b89b",
   "metadata": {},
   "source": [
    "### 5. Functions and Scope"
   ]
  },
  {
   "cell_type": "markdown",
   "id": "ed8c60c8",
   "metadata": {},
   "source": [
    "Python Functions are a block of related statements designed to perform a computational, logical, or evaluative task. The idea is to put some commonly or repeatedly done tasks together and make a function so that instead of writing the same code again and again for different inputs, we can do the function calls to reuse code contained in it over and over again. Functions can be both built-in or user-defined. It helps the program to be concise, non-repetitive, and organized."
   ]
  },
  {
   "cell_type": "code",
   "execution_count": null,
   "id": "98d98849",
   "metadata": {},
   "outputs": [],
   "source": [
    "'''\n",
    "def function_name(parameters(optional)):\n",
    "    \"\"\"docstring\"\"\" # optional\n",
    "    statement(s)\n",
    "    return expression # optional\n",
    "'''"
   ]
  },
  {
   "cell_type": "code",
   "execution_count": 71,
   "id": "24798618",
   "metadata": {},
   "outputs": [
    {
     "name": "stdout",
     "output_type": "stream",
     "text": [
      "Welcome to PIC 16A\n",
      "None\n",
      "Welcome to PIC 16A\n"
     ]
    }
   ],
   "source": [
    "# A simple Python function\n",
    " \n",
    "def welcome():\n",
    "    print(\"Welcome to PIC 16A\")\n",
    "    # return None\n",
    "\n",
    "a = welcome()\n",
    "print(a)\n",
    "\n",
    "welcome()"
   ]
  },
  {
   "cell_type": "markdown",
   "id": "13149aa2",
   "metadata": {},
   "source": [
    "#### Global and local variables\n",
    "**Global Variables**: In Python, a variable declared outside of the function or in global scope is known as a global variable\n",
    "\n",
    "**Local Variables**: A variable declared inside the function's body or in the local scope is known as a local variable."
   ]
  },
  {
   "cell_type": "code",
   "execution_count": 72,
   "id": "edae32cf",
   "metadata": {},
   "outputs": [
    {
     "name": "stdout",
     "output_type": "stream",
     "text": [
      "x inside foo: global\n",
      "x outside foo: global\n"
     ]
    }
   ],
   "source": [
    "# Example 1: Create a Global Variable\n",
    "x = \"global\"\n",
    "\n",
    "def foo():\n",
    "    print(\"x inside foo:\", x)\n",
    "\n",
    "foo()\n",
    "print(\"x outside foo:\", x)"
   ]
  },
  {
   "cell_type": "markdown",
   "id": "7cba06be",
   "metadata": {},
   "source": [
    "In the above code, we created `x` as a global variable and defined a `foo()` to print the global variable `x`. Finally, we call the `foo()` which will print the value of `x`. What if we want to change the value of `x` inside a function?"
   ]
  },
  {
   "cell_type": "code",
   "execution_count": 74,
   "id": "52b9b7ca",
   "metadata": {},
   "outputs": [
    {
     "name": "stdout",
     "output_type": "stream",
     "text": [
      "6\n",
      "global\n"
     ]
    }
   ],
   "source": [
    "# inside a function: it will look for the variable in the local scope, if not found, it will look for the variable in the \n",
    "# global scope or look for a default value\n",
    "# and if that is also not found, it will raise an error or use inbuilt namescope\n",
    "x = \"global\"\n",
    "\n",
    "def foo():\n",
    "    x = 3\n",
    "    x = x * 2\n",
    "    print(x)\n",
    "\n",
    "foo()\n",
    "print(x)"
   ]
  },
  {
   "cell_type": "markdown",
   "id": "a83e6e1d",
   "metadata": {},
   "source": [
    "Here, we will see how global variables and local variables can be used in the same code."
   ]
  },
  {
   "cell_type": "code",
   "execution_count": 76,
   "id": "eeda6d0c",
   "metadata": {},
   "outputs": [
    {
     "name": "stdout",
     "output_type": "stream",
     "text": [
      "x Inside foo: global global \n",
      "y Inside foo: local\n",
      "x Outside foo: global global \n"
     ]
    }
   ],
   "source": [
    "# Example: Using Global and Local variables in the same code\n",
    "x = \"global \"\n",
    "\n",
    "def foo():\n",
    "    global x\n",
    "    y = \"local\"\n",
    "    x = x * 2\n",
    "    print(\"x Inside foo:\",x)\n",
    "    print(\"y Inside foo:\",y)\n",
    "\n",
    "foo()\n",
    "print(\"x Outside foo:\",x)\n",
    "#print(\"y Outside foo:\",y) # This will cause a NameError: name 'y' is not defined"
   ]
  },
  {
   "cell_type": "markdown",
   "id": "1d915279",
   "metadata": {},
   "source": [
    "In the above code, we declare `x` as a \"global\" and `y` as a local variable with value \"local\" in the `foo()`. Then, we use multiplication operator `*` to modify the global variable `x` and we print both `x` and `y`.\n",
    "\n",
    "After calling the `foo()`, the value of `x` becomes \"global global\" because we used the `x * 2` to print two times global. After that, we print the value of local variable `y` i.e local."
   ]
  },
  {
   "cell_type": "code",
   "execution_count": 78,
   "id": "f34b0ffc",
   "metadata": {},
   "outputs": [
    {
     "name": "stdout",
     "output_type": "stream",
     "text": [
      "global x: 5\n",
      "local x: 10\n",
      "global x: 5\n"
     ]
    }
   ],
   "source": [
    "# Example: Global variable and Local variable with same name\n",
    " \n",
    "x = 5\n",
    "print(\"global x:\", x)\n",
    "def foo():\n",
    "    x = 10\n",
    "    print(\"local x:\", x)\n",
    "\n",
    "foo()\n",
    "print(\"global x:\", x)"
   ]
  },
  {
   "cell_type": "markdown",
   "id": "ab925a07",
   "metadata": {
    "id": "EygGAMWqL9i7"
   },
   "source": [
    "### 6. Numpy Broadcasting"
   ]
  },
  {
   "cell_type": "markdown",
   "id": "367cb92a",
   "metadata": {},
   "source": [
    "Briefly discuss Boolean Indexing in Numpy.\n",
    "\n",
    "Broadcasting is a powerful mechanism that allows numpy to work with arrays of different shapes when performing arithmetic operations. Frequently we have a smaller array and a larger array, and we want to use the smaller array multiple times to perform some operation on the larger array. For example, suppose that we want to add a constant vector to each row of a matrix. We could do it like this:"
   ]
  },
  {
   "cell_type": "code",
   "execution_count": 3,
   "id": "73ee53d5",
   "metadata": {},
   "outputs": [],
   "source": [
    "import numpy as np"
   ]
  },
  {
   "cell_type": "code",
   "execution_count": 4,
   "id": "15e1ee22",
   "metadata": {
    "id": "WEEvkV1ZL9i7"
   },
   "outputs": [
    {
     "name": "stdout",
     "output_type": "stream",
     "text": [
      "[[ 2  2  4]\n",
      " [ 5  5  7]\n",
      " [ 8  8 10]\n",
      " [11 11 13]]\n"
     ]
    }
   ],
   "source": [
    "# We will add the vector v to each row of the matrix x,\n",
    "# storing the result in the matrix y\n",
    "x = np.array([[1, 2, 3], [4, 5, 6], [7, 8, 9], [10, 11, 12]])\n",
    "v = np.array([1, 0, 1])\n",
    "\n",
    "# Create an empty matrix with the same shape as x\n",
    "y = np.empty_like(x)   \n",
    "\n",
    "# Add the vector v to each row of the matrix x with an explicit for loop\n",
    "for i in range(4):\n",
    "    y[i, :] = x[i, :] + v\n",
    "\n",
    "print(y)"
   ]
  },
  {
   "cell_type": "markdown",
   "id": "8442d6af",
   "metadata": {
    "id": "2OlXXupEL9i-"
   },
   "source": [
    "This works; however when the matrix `x` is very large, computing an explicit loop in Python could be slow. Note that adding the vector v to each row of the matrix `x` is equivalent to forming a matrix `vv` by stacking multiple copies of `v` vertically, then performing elementwise summation of `x` and `vv`. We could implement this approach like this:"
   ]
  },
  {
   "cell_type": "code",
   "execution_count": 5,
   "id": "a55c42f0",
   "metadata": {
    "id": "vS7UwAQQL9i-"
   },
   "outputs": [
    {
     "name": "stdout",
     "output_type": "stream",
     "text": [
      "[[1 0 1]\n",
      " [1 0 1]\n",
      " [1 0 1]\n",
      " [1 0 1]]\n"
     ]
    }
   ],
   "source": [
    "# Stack 4 copies of v on top of each other\n",
    "# Prints \"[[1 0 1]\n",
    "#          [1 0 1]\n",
    "#          [1 0 1]\n",
    "#          [1 0 1]]\"\n",
    "vv = np.tile(v, (4, 1))\n",
    "print(vv)"
   ]
  },
  {
   "cell_type": "code",
   "execution_count": 6,
   "id": "26ecd121",
   "metadata": {
    "id": "N0hJphSIL9jA"
   },
   "outputs": [
    {
     "name": "stdout",
     "output_type": "stream",
     "text": [
      "[[ 2  2  4]\n",
      " [ 5  5  7]\n",
      " [ 8  8 10]\n",
      " [11 11 13]]\n"
     ]
    }
   ],
   "source": [
    "# Add x and vv elementwise\n",
    "y = x + vv\n",
    "print(y)"
   ]
  },
  {
   "cell_type": "markdown",
   "id": "7e15b3fb",
   "metadata": {
    "id": "zHos6RJnL9jB"
   },
   "source": [
    "Numpy broadcasting allows us to perform this computation without actually creating multiple copies of v. Consider this version, using broadcasting:"
   ]
  },
  {
   "cell_type": "code",
   "execution_count": 7,
   "id": "0f417b36",
   "metadata": {
    "id": "vnYFb-gYL9jC"
   },
   "outputs": [
    {
     "name": "stdout",
     "output_type": "stream",
     "text": [
      "[[ 2  2  4]\n",
      " [ 5  5  7]\n",
      " [ 8  8 10]\n",
      " [11 11 13]]\n"
     ]
    }
   ],
   "source": [
    "# We will add the vector v to each row of the matrix x,\n",
    "# storing the result in the matrix y\n",
    "x = np.array([[1, 2, 3], [4, 5, 6], [7, 8, 9], [10, 11, 12]])\n",
    "v = np.array([1, 0, 1])\n",
    "\n",
    "# Add v to each row of x using broadcasting\n",
    "y = x + v  \n",
    "print(y)"
   ]
  },
  {
   "cell_type": "markdown",
   "id": "7d72f862",
   "metadata": {
    "id": "08YyIURKL9jH"
   },
   "source": [
    "Broadcasting rules:\n",
    "\n",
    "1. If the arrays have different number of dimensions, prepend the shape of the lower dimensional array with 1s until both have same number of dimensions.\n",
    "2. The two arrays are said to be compatible in a dimension if they have the same size in the dimension, or if one of the arrays has size 1 in that dimension.\n",
    "3. The arrays can be broadcast together if they are compatible in all dimensions.\n",
    "4. After broadcasting, each array behaves as if it had shape equal to the elementwise maximum of shapes of the two input arrays.\n",
    "5. In any dimension where one array had size 1 and the other array had size greater than 1, the first array behaves as if it were copied along that dimension\n",
    "\n",
    "If this explanation does not make sense, try reading the explanation from the [documentation](http://docs.scipy.org/doc/numpy/user/basics.broadcasting.html) or this [explanation](http://wiki.scipy.org/EricsBroadcastingDoc).\n",
    "\n",
    "Functions that support broadcasting are known as universal functions. You can find the list of all universal functions in the [documentation](http://docs.scipy.org/doc/numpy/reference/ufuncs.html#available-ufuncs).\n",
    "\n",
    "Here are some applications of broadcasting:"
   ]
  },
  {
   "cell_type": "code",
   "execution_count": 8,
   "id": "898bed8e",
   "metadata": {
    "id": "EmQnwoM9L9jH"
   },
   "outputs": [
    {
     "name": "stdout",
     "output_type": "stream",
     "text": [
      "[[ 4  5]\n",
      " [ 8 10]\n",
      " [12 15]]\n"
     ]
    }
   ],
   "source": [
    "# Compute outer product of vectors\n",
    "v = np.array([1, 2, 3])  # v has shape (3,)\n",
    "w = np.array([4, 5])     # w has shape (2,)\n",
    "\n",
    "# To compute an outer product, we first reshape v to be a column\n",
    "# vector of shape (3, 1); we can then broadcast it against w to yield\n",
    "# an output of shape (3, 2), which is the outer product of v and w:\n",
    "print(v.reshape(3, 1) * w)"
   ]
  },
  {
   "cell_type": "code",
   "execution_count": 11,
   "id": "aed2ad8c",
   "metadata": {
    "id": "PgotmpcnL9jK"
   },
   "outputs": [
    {
     "name": "stdout",
     "output_type": "stream",
     "text": [
      "[[ True  True False]\n",
      " [False False False]]\n"
     ]
    }
   ],
   "source": [
    "# Add a vector to each row of a matrix\n",
    "x = np.array([[1, 2, 3], \n",
    "              [4, 5, 6]])\n",
    "v = np.array([1, 2, 3])\n",
    "\n",
    "# x has shape (2, 3) and v has shape (3,) so they broadcast to (2, 3),\n",
    "# giving the following matrix:\n",
    "\n",
    "print(x<=2)"
   ]
  },
  {
   "cell_type": "code",
   "execution_count": 86,
   "id": "4ab31f30",
   "metadata": {
    "id": "T5hKS1QaL9jK"
   },
   "outputs": [
    {
     "name": "stdout",
     "output_type": "stream",
     "text": [
      "[[ 5  6  7]\n",
      " [ 9 10 11]]\n"
     ]
    }
   ],
   "source": [
    "x = np.array([[1, 2, 3], [4, 5, 6]])\n",
    "w = np.array([4, 5])\n",
    "\n",
    "# Add a vector to each column of a matrix\n",
    "# x has shape (2, 3) and w has shape (2,)\n",
    "# If we transpose x then it has shape (3, 2) and can be broadcast\n",
    "# against w to yield a result of shape (3, 2); transposing this result\n",
    "# yields the final result of shape (2, 3) which is the matrix x with\n",
    "# the vector w added to each column. Gives the following matrix:\n",
    "print((x.T + w).T) # .T can be used to get the transpose"
   ]
  },
  {
   "cell_type": "code",
   "execution_count": 87,
   "id": "dd8e57e4",
   "metadata": {
    "id": "JDUrZUl6L9jN"
   },
   "outputs": [
    {
     "name": "stdout",
     "output_type": "stream",
     "text": [
      "[[ 5  6  7]\n",
      " [ 9 10 11]]\n"
     ]
    }
   ],
   "source": [
    "# Another solution is to reshape w to be a row vector of shape (2, 1);\n",
    "# we can then broadcast it directly against x to produce the same output.\n",
    "print(x + w.reshape(2, 1))"
   ]
  },
  {
   "cell_type": "code",
   "execution_count": 88,
   "id": "35018c00",
   "metadata": {
    "id": "VzrEo4KGL9jP"
   },
   "outputs": [
    {
     "name": "stdout",
     "output_type": "stream",
     "text": [
      "[[ 2  4  6]\n",
      " [ 8 10 12]]\n"
     ]
    }
   ],
   "source": [
    "# Multiply a matrix by a constant:\n",
    "# x has shape (2, 3). Numpy treats scalars as arrays of shape ();\n",
    "# these can be broadcast together to shape (2, 3), producing the\n",
    "# following array:\n",
    "print(x * 2)"
   ]
  },
  {
   "cell_type": "markdown",
   "id": "790d7086",
   "metadata": {
    "id": "89e2FXxFL9jQ"
   },
   "source": [
    "Broadcasting typically makes your code more concise and faster, so you should strive to use it where possible. This brief overview has touched on many of the important things that you need to know about numpy broadcasting, but is far from complete. Please check out the documentation of any numpy functions you come across to know more about it!"
   ]
  },
  {
   "cell_type": "markdown",
   "id": "9c0d24ed",
   "metadata": {},
   "source": [
    "### 7. Iterators and Generators"
   ]
  },
  {
   "cell_type": "code",
   "execution_count": 41,
   "id": "33e49eba",
   "metadata": {},
   "outputs": [],
   "source": [
    "# Example for Iterators and Generators\n",
    "# A class to iterate over a dictionary's elements sorted by the keys\n",
    "class ABC:\n",
    "    def __init__(self, frequency):\n",
    "        self.f = frequency\n",
    "    def __iter__(self):\n",
    "        # What will you do here?\n",
    "        return ABC_Iterator(self)\n",
    "\n",
    "class ABC_Iterator:\n",
    "    def __init__(self, x):\n",
    "        self.freq = x.f\n",
    "        self.order = list(self.freq.keys())\n",
    "        self.order.sort()\n",
    "        self.count = 0\n",
    "\n",
    "    def __next__(self):\n",
    "        # What will you do here?\n",
    "        if self.count>=len(self.freq):\n",
    "            raise StopIteration\n",
    "        self.count+=1\n",
    "        return (self.order[self.count-1],self.freq[self.order[self.count-1]])\n",
    "        \n",
    "def ABC_Generator(x):\n",
    "    order = list(x.f.keys())\n",
    "    order.sort()\n",
    "    # What will you do here?\n",
    "    for i in range(len(x.f)):\n",
    "        yield (order[i],x.f[order[i]])\n",
    "\n",
    "def ABC_Generator_vals(x):\n",
    "    order = list(x.f.items())\n",
    "    order = sorted(order, key = lambda x: x[1])\n",
    "    # What will you do here?\n",
    "    for i in range(len(x.f)):\n",
    "        yield (order[i])"
   ]
  },
  {
   "cell_type": "code",
   "execution_count": 42,
   "id": "0067b9c0",
   "metadata": {},
   "outputs": [
    {
     "name": "stdout",
     "output_type": "stream",
     "text": [
      "('A', 25)\n",
      "('G', 32)\n",
      "('O', 12)\n",
      "('T', 10)\n"
     ]
    }
   ],
   "source": [
    "occurences = {'G':32, 'O':12, 'A':25, 'T':10}\n",
    "\n",
    "abc = ABC(occurences)\n",
    "# The purpose of this is to sequentially print the keys and values of the dictionary sorted by the keys\n",
    "for i in abc:\n",
    "    print(i)"
   ]
  },
  {
   "cell_type": "code",
   "execution_count": 43,
   "id": "d5556896",
   "metadata": {},
   "outputs": [
    {
     "name": "stdout",
     "output_type": "stream",
     "text": [
      "('A', 25)\n",
      "('G', 32)\n",
      "('O', 12)\n",
      "('T', 10)\n"
     ]
    }
   ],
   "source": [
    "for i in ABC_Generator(abc):\n",
    "    print(i)"
   ]
  },
  {
   "cell_type": "code",
   "execution_count": 44,
   "id": "88366f7a",
   "metadata": {},
   "outputs": [
    {
     "name": "stdout",
     "output_type": "stream",
     "text": [
      "('T', 10)\n",
      "('O', 12)\n",
      "('A', 25)\n",
      "('G', 32)\n"
     ]
    }
   ],
   "source": [
    "for i in ABC_Generator_vals(abc):\n",
    "    print(i)"
   ]
  }
 ],
 "metadata": {
  "kernelspec": {
   "display_name": "Python 3 (ipykernel)",
   "language": "python",
   "name": "python3"
  },
  "language_info": {
   "codemirror_mode": {
    "name": "ipython",
    "version": 3
   },
   "file_extension": ".py",
   "mimetype": "text/x-python",
   "name": "python",
   "nbconvert_exporter": "python",
   "pygments_lexer": "ipython3",
   "version": "3.9.13"
  },
  "vscode": {
   "interpreter": {
    "hash": "73d4432868320a00a661825a130a6a730fb841689da4e88a956d3ce9f1015fce"
   }
  }
 },
 "nbformat": 4,
 "nbformat_minor": 5
}
