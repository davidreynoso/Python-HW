{
 "cells": [
  {
   "cell_type": "markdown",
   "metadata": {},
   "source": [
    "# Hello, PIC16A \n",
    "\n",
    "### Group Members and Roles\n",
    "\n",
    "- Group Member 1 (Role)\n",
    "- Group Member 2 (Role)\n",
    "- Group Member 3 (Role)\n",
    "\n",
    "### Recap of Roles\n",
    "\n",
    "Today, the group member whose first name comes first in the alphabet is the **Driver**. They are responsible for opening a copy of this worksheet and sharing their screen. They are the only one who needs to modify the worksheet directly. \n",
    "\n",
    "The group member whose first name comes next in the alphabet is the **Proposer**. They are responsible for suggesting ideas for what the Driver should do next. \n",
    "\n",
    "The final group member is the **Reviewer**. They are responsible for finding improvements, giving feedback, and researching questions if the group gets stuck. \n",
    "\n",
    "You'll be rotating these roles throughout the quarter. \n",
    "\n",
    "**Add your names and roles beside the bullet points above.**\n",
    "\n",
    "\n",
    "# §1. Hello Team (~15 minutes)\n",
    "\n",
    "There's plenty of time for this part of the activity, so please feel free to ask each other additional questions. \n",
    "\n",
    "Starting with the Reviewer, introduce yourselves! First, share with each other the following. \n",
    "\n",
    "1. Your name. \n",
    "2. Your area or planned area of study at UCLA. \n",
    "3. A fun fact about you. \n",
    "\n",
    "Once each of you have spoken, move on to the next question: \n",
    "\n",
    "> *Why are you interested in Python programming?*\n",
    "\n",
    "Once each of you have shared your interest in Python programming move on to the following question. You might want to spend a minute or so thinking about this one.  \n",
    "\n",
    "> *If you were a vegetable, which vegetable would you be, **and why**?* \n",
    "\n",
    "Make sure that you have both selected a vegetable and a reason. Note that this question is **not** the same as \"what is your favorite vegetable?\"\n",
    "\n",
    "For the purposes of this question, botanical vegetables and culinary vegetables are valid choices. For example, \"tomato\" or \"squash\" is fully acceptable, as long as you have a reason. "
   ]
  },
  {
   "cell_type": "code",
   "execution_count": null,
   "metadata": {},
   "outputs": [],
   "source": [
    "def mult_vec(a, b):\n",
    "    for i in a:\n",
    "        i = i*b\n",
    "    return a\n",
    "\n",
    "def inner_prod(x,y):\n",
    "    new_vec = []\n",
    "    for i in range(len(x)):\n",
    "        newvec.append(x[i]*y[i])\n",
    "    return new_vec\n",
    "        \n",
    "wow = dict()\n",
    "l = s.split(' ')\n",
    "counter = 0\n",
    "for i in l:\n",
    "    if i not in wow:\n",
    "        for j in l:\n",
    "            if i == j:\n",
    "                counter +1\n",
    "    wow[i] = counter\n",
    "    counter = 0"
   ]
  },
  {
   "cell_type": "markdown",
   "metadata": {},
   "source": [
    "# §2. Hello Jupyter (~15 minutes)\n",
    "\n",
    "The most important thing you will need to do in Jupyter is read, write, and run Python code. Write the following code, exactly as it appears, in the *code cell* below, underneath the `# comment`. \n",
    "\n",
    "```python\n",
    "print(\"to boldly go where no one has gone before\")\n",
    "```\n",
    "\n",
    "Then, with your cursor still in the code cell, hit `shift + enter` on your keyboard to run the code. You may also see a \"Play\" or \"Run\" button in the Jupyter toolbar which you can use to achieve the same result and advance to the next cell. There is also a keyboard shortcut to run the code and not advance to the next cell, which is often convenient. The shortcut depends on your operating system and whether you are using Jupyter Notebook or Jupyter Lab. These shortcuts are shown in the menu bar. "
   ]
  },
  {
   "cell_type": "code",
   "execution_count": 1,
   "metadata": {},
   "outputs": [
    {
     "data": {
      "text/plain": [
       "33"
      ]
     },
     "execution_count": 1,
     "metadata": {},
     "output_type": "execute_result"
    }
   ],
   "source": [
    "# write your code here\n",
    "33\n"
   ]
  },
  {
   "cell_type": "markdown",
   "metadata": {},
   "source": [
    "An important feature of the Jupyter interface is that the Python environment is persistent between code cells. That means that variables that you define in one code cell can be used in later code cells. \n",
    "\n",
    "In the cell below, type: \n",
    "\n",
    "```python\n",
    "vegetables = {\"driver\" : \"radish\", \"proposer\" : \"carrot\", \"reviewer\" : \"onion\"}\n",
    "```\n",
    "\n",
    "Replace the vegetables with the vegetables you chose in §1. \n",
    "\n",
    "Run the code cell (`shift + enter`). "
   ]
  },
  {
   "cell_type": "code",
   "execution_count": null,
   "metadata": {},
   "outputs": [],
   "source": [
    "# write your code here\n",
    "vegetables = {\"driver\" : \"radish\", \"proposer\" : \"carrot\", \"reviewer\" : \"onion\"}"
   ]
  },
  {
   "cell_type": "markdown",
   "metadata": {},
   "source": [
    "The variable `vegetables` is now part of the Python session and is available for future use. For example, type the following code in the cell below and run it. \n",
    "\n",
    "```python\n",
    "print(\"If they were a vegetable, the Driver would be a \" + vegetables[\"driver\"] + \".\")\n",
    "```"
   ]
  },
  {
   "cell_type": "code",
   "execution_count": null,
   "metadata": {},
   "outputs": [],
   "source": [
    "# write your code here\n",
    "print(\"If they were a vegetable, the Driver would be a \" + vegetables[\"driver\"] + \".\")"
   ]
  },
  {
   "cell_type": "markdown",
   "metadata": {},
   "source": [
    "Sometimes, you'll need to write some code, but there won't be a code cell present. In this case, you can use the `+` symbol on the toolbar to add a new code cell. Add a new cell now, immediately below this text, and type the following code: \n",
    "\n",
    "```python\n",
    "print(\"If they were a vegetable, the Reviewer would be a \" + vegetables[\"reviewer\"] + \".\")\n",
    "```\n",
    "\n",
    "\\[add code cell here\\]"
   ]
  },
  {
   "cell_type": "markdown",
   "metadata": {},
   "source": [
    "On occasion, you may find it useful to *restart the kernel*. Restarting the kernel has the effect of erasing all variables in the current Python session. \n",
    "\n",
    "**Restart the kernel by clicking the ↻ button in the Jupyter toolbar.** If asked whether you are sure you want to restart the kernel, choose \"yes\" \n",
    "\n",
    "Create a code cell below, and type in the following code: \n",
    "\n",
    "```python\n",
    "print(\"If they were a vegetable, the Proposer would be a \" + vegetables[\"proposer\"] + \".\")\n",
    "```\n",
    "\n",
    "\\[add code cell here\\]"
   ]
  },
  {
   "cell_type": "code",
   "execution_count": null,
   "metadata": {},
   "outputs": [],
   "source": []
  },
  {
   "cell_type": "markdown",
   "metadata": {},
   "source": [
    "You should observe a `NameError: name 'vegetables' is not defined`. This is because, after restarting the kernel, the variable `vegetables` is no longer present in our namespace. To get it back, go back to the code cell in which you first defined this variable and run it. Then, the cell above will run without error. \n",
    "\n",
    "The toolbar also contains useful tools for duplicating cells, removing cells, and moving cells up and down. "
   ]
  },
  {
   "cell_type": "markdown",
   "metadata": {},
   "source": [
    "# §3. Hello Markdown (~5 minutes)\n",
    "\n",
    "Throughout PIC16A, you will frequently be asked to write explanatory text in which you describe your problem-solving strategy and the structure of your code. One way to do this will be in comments and docstrings, which we will introduce later. Another important way is with *Markdown cells.* [Markdown](https://en.wikipedia.org/wiki/Markdown#Example) is a simple, readable way to create formatted text. It was invented by John Gruber and Aaron Swartz. This [cheatsheet](https://commonmark.org/help/) contains a useful and concise set of instructions for Markdown editing. \n",
    "\n",
    "To create a Markdown cell, first create a code cell like you did before. Then, with your cursor in the code cell, click the dropdown menu in the toolbar that says \"Code\".  Select \"Markdown\" from this menu instead. \n",
    "\n",
    "Return to the cell and type the following characters, exactly as they appear:\n",
    "\n",
    "`*To boldly go* **where no one has gone before.**`\n",
    "\n",
    "Then, \"run\" the Markdown cell (`shift + enter` again) to see your text rendered with italic and bold formatting. \n",
    "\n",
    "\\[add markdown cell here\\]"
   ]
  },
  {
   "cell_type": "markdown",
   "metadata": {},
   "source": [
    "*To boldly go* **where no one has gone before.**"
   ]
  },
  {
   "cell_type": "markdown",
   "metadata": {},
   "source": [
    "Now, work with your group to reproduce in Markdown the following algorithm for enjoying a relaxing cup of tea. \n",
    "\n",
    "<br>\n",
    "\n",
    "<figure class=\"image\" style=\"width:40%\">\n",
    "  <img src=\"https://raw.githubusercontent.com/PhilChodrow/PIC16A/master/_images/making-tea.png\" alt=\"A list of six items describing how to make tea. The list reads:             \n",
    "    1. Boil water.\n",
    "    2. Place tea bag in mug.\n",
    "    3. Pour water in mug. **Be careful, water is hot!**\n",
    "    3. *Optional: add milk and/or sugar*. \n",
    "    4. Drink tea. \n",
    "        - `while cup is not empty`\n",
    "            - Carefully raise mug to mouth. \n",
    "            - Take a sip. \n",
    "    5. Clean mug. \">\n",
    "  <figcaption><i></i></figcaption>\n",
    "</figure>\n",
    "\n",
    "\\[add markdown cell here\\]"
   ]
  },
  {
   "cell_type": "markdown",
   "metadata": {},
   "source": [
    "### **Making Tea**\n",
    "\n",
    "1. Boil water.\n",
    "2. Place tea bag in mug.\n",
    "3. Pour water in mug. **Be careful, water is hot!**\n",
    "4. Optional: *add milk and/or sugar.* \n",
    "5. Drink tea.\n",
    "    - `while cup is not empty`\n",
    "        - Carefully raise mug to mouth.\n",
    "        - Take a sip.\n",
    "6. Clean mug.\n"
   ]
  },
  {
   "cell_type": "markdown",
   "metadata": {},
   "source": [
    "**Note on grading**: Discussion worksheets are graded on *participation*. This means that it is not necessary to complete the entire worksheet in order to receive full credit, provided that you are actively working on the activity for the entirety of the Discussion period. If, however, you would like to meet up later with your partners to finish up the activity, then please do -- this will be very helpful for your learning (and therefore your performance on exams). "
   ]
  },
  {
   "cell_type": "code",
   "execution_count": null,
   "metadata": {},
   "outputs": [],
   "source": [
    "import numpy as np\n",
    "import matplotlib.pyplot as plt\n",
    "\n",
    "# Define the curve alpha(s) and the fixed point p\n",
    "s = np.linspace(-1, 1, 100)\n",
    "alpha = np.array([np.cos(s), np.sin(s), s**2])\n",
    "p = np.array([0, 0, 0])\n",
    "\n",
    "# Compute the normal lines and their intersections with the plane at p\n",
    "Q = np.zeros_like(alpha)\n",
    "for i in range(len(s)):\n",
    "    N = np.array([-np.sin(s[i]), np.cos(s[i]), 0])\n",
    "    t = np.dot(p - alpha[:, i], N) / np.dot(N, N)\n",
    "    Q[:, i] = alpha[:, i] + t * N\n",
    "\n",
    "# Plot the curve, normal lines, and plane at p\n",
    "fig = plt.figure()\n",
    "ax = fig.gca(projection='3d')\n",
    "ax.plot(alpha[0], alpha[1], alpha[2], 'r')\n",
    "ax.scatter(p[0], p[1], p[2], color='b')\n",
    "for i in range(len(s)):\n",
    "    ax.plot([alpha[0, i], Q[0, i]], [alpha[1, i], Q[1, i]], [alpha[2, i], Q[2, i]], 'g')\n",
    "X, Y = np.meshgrid(np.linspace(-1, 1, 10), np.linspace(-1, 1, 10))\n",
    "Z = np.zeros_like(X)\n",
    "ax.plot_surface(X, Y, Z, alpha=0.5)\n",
    "plt.show()\n"
   ]
  }
 ],
 "metadata": {
  "kernelspec": {
   "display_name": "Python 3 (ipykernel)",
   "language": "python",
   "name": "python3"
  },
  "language_info": {
   "codemirror_mode": {
    "name": "ipython",
    "version": 3
   },
   "file_extension": ".py",
   "mimetype": "text/x-python",
   "name": "python",
   "nbconvert_exporter": "python",
   "pygments_lexer": "ipython3",
   "version": "3.9.13"
  },
  "vscode": {
   "interpreter": {
    "hash": "73d4432868320a00a661825a130a6a730fb841689da4e88a956d3ce9f1015fce"
   }
  }
 },
 "nbformat": 4,
 "nbformat_minor": 4
}
