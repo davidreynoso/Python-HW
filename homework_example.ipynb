{
 "cells": [
  {
   "cell_type": "markdown",
   "metadata": {},
   "source": [
    "# HW0: Example\n",
    "\n",
    "> I affirm that I personally wrote the text, code, and comments in this homework assignment. \n",
    "\n",
    "> I received help from \\[other student\\] who gave me suggestions on \\[problem\\].\n",
    "\n",
    "- *By Phil Chodrow*\n",
    "- Aug. 27th, 2020\n"
   ]
  },
  {
   "cell_type": "markdown",
   "metadata": {},
   "source": [
    "## Problem 1\n",
    "\n",
    "*Write a function called `boldly_print()` that repeatedly prints the phrase \"to boldly go\". The function should take as an argument the number of times to print this phrase. It is not necessary for the function to return anything. For example:*\n",
    "\n",
    "```python\n",
    "boldly_print(5)\n",
    "\n",
    "to boldly go     # output\n",
    "to boldly go\n",
    "to boldly go\n",
    "to boldly go\n",
    "to boldly go\n",
    "```"
   ]
  },
  {
   "cell_type": "code",
   "execution_count": 1,
   "metadata": {},
   "outputs": [],
   "source": [
    "def boldly_print(k):\n",
    "    \"\"\"\n",
    "    print the phrase \"to boldly go\" a number of times specified by the user. \n",
    "    \n",
    "    Parameters\n",
    "    ----------\n",
    "    k: int, the number of times to print the phrase \"to boldly go\"\n",
    "    \n",
    "    Return \n",
    "    ----------\n",
    "    No return value\n",
    "    \"\"\"\n",
    "    \n",
    "    # I'll use a for loop to print repeatedly\n",
    "    for i in range(k):\n",
    "        print(\"to boldly go\")"
   ]
  },
  {
   "cell_type": "code",
   "execution_count": 2,
   "metadata": {},
   "outputs": [
    {
     "name": "stdout",
     "output_type": "stream",
     "text": [
      "to boldly go\n",
      "to boldly go\n",
      "to boldly go\n",
      "to boldly go\n",
      "to boldly go\n"
     ]
    }
   ],
   "source": [
    "boldly_print(5)\n",
    "# ---"
   ]
  },
  {
   "cell_type": "markdown",
   "metadata": {},
   "source": [
    "## Problem 2\n",
    "\n",
    "*Write a function that returns a [Collatz sequence](https://en.wikipedia.org/wiki/Collatz_conjecture) starting with a user-specified integer. The sequence should be returned as an `np.array()`. The first entry should always be the user input, while the last entry should always be 1. For example:*\n",
    "\n",
    "```\n",
    "collatz(17)\n",
    "\n",
    "# output\n",
    "array([17., 52., 26., 13., 40., 20., 10.,  5., 16.,  8.,  4.,  2.,  1.])\n",
    "```"
   ]
  },
  {
   "cell_type": "markdown",
   "metadata": {},
   "source": [
    "I'll approach this problem by:\n",
    "\n",
    "1. Initializing an empty `array()` to hold the sequence. \n",
    "2. Looping and updating the sequence according to the rules described [here](https://en.wikipedia.org/wiki/Collatz_conjecture) until the sequence equals one. In each iteration, I'll add the current term to the sequence. \n",
    "3. Then, I'll return the sequence. "
   ]
  },
  {
   "cell_type": "code",
   "execution_count": 3,
   "metadata": {},
   "outputs": [],
   "source": [
    "import numpy as np\n",
    "\n",
    "def collatz(k0):\n",
    "    \"\"\"\n",
    "    Parameters\n",
    "    ----------\n",
    "    k: int, the initial integer at which to initiate the sequence\n",
    "    \n",
    "    Return \n",
    "    ----------\n",
    "    np.array(), an array of ints \n",
    "    \"\"\"\n",
    "    \n",
    "    c = np.array([])        # initialize an empty array\n",
    "    k = k0\n",
    "    c = np.append(c, k)     # not forgetting the initial value!\n",
    "    \n",
    "    while k > 1:            # loop until the sequence reaches 1  \n",
    "        if k % 2 == 0:      # even case\n",
    "            k = k/2\n",
    "        else:               # odd case\n",
    "            k = 3*k+1\n",
    "        c = np.append(c, k) # add result to c\n",
    "    return c"
   ]
  },
  {
   "cell_type": "code",
   "execution_count": 4,
   "metadata": {},
   "outputs": [
    {
     "data": {
      "text/plain": [
       "array([17., 52., 26., 13., 40., 20., 10.,  5., 16.,  8.,  4.,  2.,  1.])"
      ]
     },
     "execution_count": 4,
     "metadata": {},
     "output_type": "execute_result"
    }
   ],
   "source": [
    "collatz(17) # test, looks ok! "
   ]
  }
 ],
 "metadata": {
  "kernelspec": {
   "display_name": "Python 3 (ipykernel)",
   "language": "python",
   "name": "python3"
  },
  "language_info": {
   "codemirror_mode": {
    "name": "ipython",
    "version": 3
   },
   "file_extension": ".py",
   "mimetype": "text/x-python",
   "name": "python",
   "nbconvert_exporter": "python",
   "pygments_lexer": "ipython3",
   "version": "3.9.13"
  }
 },
 "nbformat": 4,
 "nbformat_minor": 4
}
