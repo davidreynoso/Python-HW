{
 "cells": [
  {
   "cell_type": "markdown",
   "metadata": {},
   "source": [
    "# Automated Feature Selection\n",
    "\n",
    "In this live lecture activity, we are going to consider the problem of how to write algorithms that automatically make reasonable choices about which features to include in machine learning models. There are many approaches to this problem, but here are two. "
   ]
  },
  {
   "cell_type": "markdown",
   "metadata": {},
   "source": [
    "## Grab and Prepare the Titanic Data"
   ]
  },
  {
   "cell_type": "code",
   "execution_count": 2,
   "metadata": {},
   "outputs": [],
   "source": [
    "import pandas as pd\n",
    "from matplotlib import pyplot as plt\n",
    "import numpy as np\n",
    "from sklearn.model_selection import train_test_split\n",
    "from sklearn import preprocessing\n",
    "from sklearn.model_selection import cross_val_score"
   ]
  },
  {
   "cell_type": "code",
   "execution_count": 3,
   "metadata": {},
   "outputs": [],
   "source": [
    "url = \"https://philchodrow.github.io/PIC16A/datasets/titanic.csv\"\n",
    "        \n",
    "titanic = pd.read_csv(url)\n",
    "\n",
    "from sklearn import preprocessing\n",
    "le = preprocessing.LabelEncoder()\n",
    "titanic[\"Sex\"] = le.fit_transform(titanic['Sex'])\n",
    "titanic = titanic.drop([\"Name\"], axis = 1)\n",
    "\n",
    "X = titanic.drop(['Survived'], axis = 1)\n",
    "y = titanic['Survived']"
   ]
  },
  {
   "cell_type": "code",
   "execution_count": 4,
   "metadata": {},
   "outputs": [
    {
     "data": {
      "text/html": [
       "<div>\n",
       "<style scoped>\n",
       "    .dataframe tbody tr th:only-of-type {\n",
       "        vertical-align: middle;\n",
       "    }\n",
       "\n",
       "    .dataframe tbody tr th {\n",
       "        vertical-align: top;\n",
       "    }\n",
       "\n",
       "    .dataframe thead th {\n",
       "        text-align: right;\n",
       "    }\n",
       "</style>\n",
       "<table border=\"1\" class=\"dataframe\">\n",
       "  <thead>\n",
       "    <tr style=\"text-align: right;\">\n",
       "      <th></th>\n",
       "      <th>Survived</th>\n",
       "      <th>Pclass</th>\n",
       "      <th>Sex</th>\n",
       "      <th>Age</th>\n",
       "      <th>Siblings/Spouses Aboard</th>\n",
       "      <th>Parents/Children Aboard</th>\n",
       "      <th>Fare</th>\n",
       "    </tr>\n",
       "  </thead>\n",
       "  <tbody>\n",
       "    <tr>\n",
       "      <th>0</th>\n",
       "      <td>0</td>\n",
       "      <td>3</td>\n",
       "      <td>1</td>\n",
       "      <td>22.0</td>\n",
       "      <td>1</td>\n",
       "      <td>0</td>\n",
       "      <td>7.2500</td>\n",
       "    </tr>\n",
       "    <tr>\n",
       "      <th>1</th>\n",
       "      <td>1</td>\n",
       "      <td>1</td>\n",
       "      <td>0</td>\n",
       "      <td>38.0</td>\n",
       "      <td>1</td>\n",
       "      <td>0</td>\n",
       "      <td>71.2833</td>\n",
       "    </tr>\n",
       "    <tr>\n",
       "      <th>2</th>\n",
       "      <td>1</td>\n",
       "      <td>3</td>\n",
       "      <td>0</td>\n",
       "      <td>26.0</td>\n",
       "      <td>0</td>\n",
       "      <td>0</td>\n",
       "      <td>7.9250</td>\n",
       "    </tr>\n",
       "    <tr>\n",
       "      <th>3</th>\n",
       "      <td>1</td>\n",
       "      <td>1</td>\n",
       "      <td>0</td>\n",
       "      <td>35.0</td>\n",
       "      <td>1</td>\n",
       "      <td>0</td>\n",
       "      <td>53.1000</td>\n",
       "    </tr>\n",
       "    <tr>\n",
       "      <th>4</th>\n",
       "      <td>0</td>\n",
       "      <td>3</td>\n",
       "      <td>1</td>\n",
       "      <td>35.0</td>\n",
       "      <td>0</td>\n",
       "      <td>0</td>\n",
       "      <td>8.0500</td>\n",
       "    </tr>\n",
       "    <tr>\n",
       "      <th>...</th>\n",
       "      <td>...</td>\n",
       "      <td>...</td>\n",
       "      <td>...</td>\n",
       "      <td>...</td>\n",
       "      <td>...</td>\n",
       "      <td>...</td>\n",
       "      <td>...</td>\n",
       "    </tr>\n",
       "    <tr>\n",
       "      <th>882</th>\n",
       "      <td>0</td>\n",
       "      <td>2</td>\n",
       "      <td>1</td>\n",
       "      <td>27.0</td>\n",
       "      <td>0</td>\n",
       "      <td>0</td>\n",
       "      <td>13.0000</td>\n",
       "    </tr>\n",
       "    <tr>\n",
       "      <th>883</th>\n",
       "      <td>1</td>\n",
       "      <td>1</td>\n",
       "      <td>0</td>\n",
       "      <td>19.0</td>\n",
       "      <td>0</td>\n",
       "      <td>0</td>\n",
       "      <td>30.0000</td>\n",
       "    </tr>\n",
       "    <tr>\n",
       "      <th>884</th>\n",
       "      <td>0</td>\n",
       "      <td>3</td>\n",
       "      <td>0</td>\n",
       "      <td>7.0</td>\n",
       "      <td>1</td>\n",
       "      <td>2</td>\n",
       "      <td>23.4500</td>\n",
       "    </tr>\n",
       "    <tr>\n",
       "      <th>885</th>\n",
       "      <td>1</td>\n",
       "      <td>1</td>\n",
       "      <td>1</td>\n",
       "      <td>26.0</td>\n",
       "      <td>0</td>\n",
       "      <td>0</td>\n",
       "      <td>30.0000</td>\n",
       "    </tr>\n",
       "    <tr>\n",
       "      <th>886</th>\n",
       "      <td>0</td>\n",
       "      <td>3</td>\n",
       "      <td>1</td>\n",
       "      <td>32.0</td>\n",
       "      <td>0</td>\n",
       "      <td>0</td>\n",
       "      <td>7.7500</td>\n",
       "    </tr>\n",
       "  </tbody>\n",
       "</table>\n",
       "<p>887 rows × 7 columns</p>\n",
       "</div>"
      ],
      "text/plain": [
       "     Survived  Pclass  Sex   Age  Siblings/Spouses Aboard  \\\n",
       "0           0       3    1  22.0                        1   \n",
       "1           1       1    0  38.0                        1   \n",
       "2           1       3    0  26.0                        0   \n",
       "3           1       1    0  35.0                        1   \n",
       "4           0       3    1  35.0                        0   \n",
       "..        ...     ...  ...   ...                      ...   \n",
       "882         0       2    1  27.0                        0   \n",
       "883         1       1    0  19.0                        0   \n",
       "884         0       3    0   7.0                        1   \n",
       "885         1       1    1  26.0                        0   \n",
       "886         0       3    1  32.0                        0   \n",
       "\n",
       "     Parents/Children Aboard     Fare  \n",
       "0                          0   7.2500  \n",
       "1                          0  71.2833  \n",
       "2                          0   7.9250  \n",
       "3                          0  53.1000  \n",
       "4                          0   8.0500  \n",
       "..                       ...      ...  \n",
       "882                        0  13.0000  \n",
       "883                        0  30.0000  \n",
       "884                        2  23.4500  \n",
       "885                        0  30.0000  \n",
       "886                        0   7.7500  \n",
       "\n",
       "[887 rows x 7 columns]"
      ]
     },
     "execution_count": 4,
     "metadata": {},
     "output_type": "execute_result"
    }
   ],
   "source": [
    "titanic"
   ]
  },
  {
   "cell_type": "code",
   "execution_count": 3,
   "metadata": {
    "scrolled": true
   },
   "outputs": [
    {
     "data": {
      "text/html": [
       "<div>\n",
       "<style scoped>\n",
       "    .dataframe tbody tr th:only-of-type {\n",
       "        vertical-align: middle;\n",
       "    }\n",
       "\n",
       "    .dataframe tbody tr th {\n",
       "        vertical-align: top;\n",
       "    }\n",
       "\n",
       "    .dataframe thead th {\n",
       "        text-align: right;\n",
       "    }\n",
       "</style>\n",
       "<table border=\"1\" class=\"dataframe\">\n",
       "  <thead>\n",
       "    <tr style=\"text-align: right;\">\n",
       "      <th></th>\n",
       "      <th>Pclass</th>\n",
       "      <th>Sex</th>\n",
       "      <th>Age</th>\n",
       "      <th>Siblings/Spouses Aboard</th>\n",
       "      <th>Parents/Children Aboard</th>\n",
       "      <th>Fare</th>\n",
       "    </tr>\n",
       "  </thead>\n",
       "  <tbody>\n",
       "    <tr>\n",
       "      <th>0</th>\n",
       "      <td>3</td>\n",
       "      <td>1</td>\n",
       "      <td>22.0</td>\n",
       "      <td>1</td>\n",
       "      <td>0</td>\n",
       "      <td>7.2500</td>\n",
       "    </tr>\n",
       "    <tr>\n",
       "      <th>1</th>\n",
       "      <td>1</td>\n",
       "      <td>0</td>\n",
       "      <td>38.0</td>\n",
       "      <td>1</td>\n",
       "      <td>0</td>\n",
       "      <td>71.2833</td>\n",
       "    </tr>\n",
       "    <tr>\n",
       "      <th>2</th>\n",
       "      <td>3</td>\n",
       "      <td>0</td>\n",
       "      <td>26.0</td>\n",
       "      <td>0</td>\n",
       "      <td>0</td>\n",
       "      <td>7.9250</td>\n",
       "    </tr>\n",
       "    <tr>\n",
       "      <th>3</th>\n",
       "      <td>1</td>\n",
       "      <td>0</td>\n",
       "      <td>35.0</td>\n",
       "      <td>1</td>\n",
       "      <td>0</td>\n",
       "      <td>53.1000</td>\n",
       "    </tr>\n",
       "    <tr>\n",
       "      <th>4</th>\n",
       "      <td>3</td>\n",
       "      <td>1</td>\n",
       "      <td>35.0</td>\n",
       "      <td>0</td>\n",
       "      <td>0</td>\n",
       "      <td>8.0500</td>\n",
       "    </tr>\n",
       "  </tbody>\n",
       "</table>\n",
       "</div>"
      ],
      "text/plain": [
       "   Pclass  Sex   Age  Siblings/Spouses Aboard  Parents/Children Aboard  \\\n",
       "0       3    1  22.0                        1                        0   \n",
       "1       1    0  38.0                        1                        0   \n",
       "2       3    0  26.0                        0                        0   \n",
       "3       1    0  35.0                        1                        0   \n",
       "4       3    1  35.0                        0                        0   \n",
       "\n",
       "      Fare  \n",
       "0   7.2500  \n",
       "1  71.2833  \n",
       "2   7.9250  \n",
       "3  53.1000  \n",
       "4   8.0500  "
      ]
     },
     "execution_count": 3,
     "metadata": {},
     "output_type": "execute_result"
    }
   ],
   "source": [
    "X.head()"
   ]
  },
  {
   "cell_type": "code",
   "execution_count": 4,
   "metadata": {},
   "outputs": [
    {
     "data": {
      "text/plain": [
       "0    0\n",
       "1    1\n",
       "2    1\n",
       "3    1\n",
       "4    0\n",
       "Name: Survived, dtype: int64"
      ]
     },
     "execution_count": 4,
     "metadata": {},
     "output_type": "execute_result"
    }
   ],
   "source": [
    "y.head()"
   ]
  },
  {
   "cell_type": "markdown",
   "metadata": {},
   "source": [
    "## Exhaustive Search\n",
    "\n",
    "The problem of enumerating combinations of objects gets very difficult very quickly: for example, in a data set with 10 predictor columns, there are $2^{10} = 1024$  possible subsets of these columns. Worse, many data sets have many more columns than this! But, for relatively small data sets, it can sometimes be practical to simply try all possible combinations of columns, assessing them using cross-validation in order to settle on a good solution. \n",
    "\n",
    "The `itertools` module is exceptionally useful for this. "
   ]
  },
  {
   "cell_type": "code",
   "execution_count": 1,
   "metadata": {},
   "outputs": [
    {
     "data": {
      "text/plain": [
       "['Picard', 'Sisko', 'Janeway', 'Georgiou']"
      ]
     },
     "execution_count": 1,
     "metadata": {},
     "output_type": "execute_result"
    }
   ],
   "source": [
    "from itertools import combinations\n",
    "\n",
    "captains = [\"Picard\", \"Sisko\", \"Janeway\", \"Georgiou\"]\n",
    "\n",
    "# all pairs\n",
    "list(combinations(captains,2))\n",
    "\n",
    "# all triples\n",
    "\n",
    "#list(combinations(captains,3))\n",
    "captains"
   ]
  },
  {
   "cell_type": "code",
   "execution_count": 7,
   "metadata": {},
   "outputs": [],
   "source": [
    "# Write exhaustive search algorithm here:\n",
    "# Should iterate through all subsets and identify best subset of columns\n",
    "# in terms of cross validation error.\n",
    "def exhaustive_search(model, X, y, min_cols, max_cols):\n",
    "    best_cv = 0\n",
    "    best_cols = None\n",
    "    for n_cols in range(min_cols, max_cols + 1):\n",
    "        for cols in combinations(X.columns, n_cols):\n",
    "            cv = cross_val_score(model, X[list(cols)], y, cv = 10).mean()\n",
    "            if cv > best_cv:\n",
    "                best_cv = cv\n",
    "                best_cols = cols    \n",
    "    return best_cv, best_cols"
   ]
  },
  {
   "cell_type": "code",
   "execution_count": 8,
   "metadata": {},
   "outputs": [],
   "source": [
    "from sklearn.linear_model import LogisticRegression\n",
    "LR = LogisticRegression()\n",
    "\n",
    "best_cv, best_cols = exhaustive_search(LR, X, y, 2, 5)"
   ]
  },
  {
   "cell_type": "code",
   "execution_count": 9,
   "metadata": {},
   "outputs": [
    {
     "data": {
      "text/plain": [
       "(0.8016215526046986,\n",
       " ('Pclass', 'Sex', 'Age', 'Siblings/Spouses Aboard', 'Fare'))"
      ]
     },
     "execution_count": 9,
     "metadata": {},
     "output_type": "execute_result"
    }
   ],
   "source": [
    "best_cv, best_cols"
   ]
  },
  {
   "cell_type": "markdown",
   "metadata": {},
   "source": [
    "## Greedy Stagewise Feature Selection\n",
    "\n",
    "As stated, if the number of columns is large then exhaustive search is infeasible. Here's what we are going to do instead. We will start with one randomly-chosen \"active\" column. Then, we will do the following a user-specified number of times: \n",
    "\n",
    "1. Compute the CV score of a model using only the active columns, and save it. \n",
    "2. Propose either \"activating\" or \"deactivating\" a column (i.e. adding or removing it from the list of active columns). Compute the CV score.\n",
    "3. If the CV score has improved, accept the proposal (i.e. add that column to the active set, or remove it).\n",
    "\n",
    "Now write functions to implement the initialization of the active vs inactive columns."
   ]
  },
  {
   "cell_type": "markdown",
   "metadata": {},
   "source": [
    "## Part A: Setup"
   ]
  },
  {
   "cell_type": "code",
   "execution_count": 10,
   "metadata": {},
   "outputs": [],
   "source": [
    "# create a logistic regression model\n",
    "LR = LogisticRegression(solver = \"liblinear\")"
   ]
  },
  {
   "cell_type": "code",
   "execution_count": 11,
   "metadata": {},
   "outputs": [],
   "source": [
    "# Write a function to initialize lists holding active (one at the start)\n",
    "# and inactive columns (the rest)\n",
    "def initialize_lists():\n",
    "    \"\"\"\n",
    "    Create an \"active\" list with a single random column\n",
    "    from X.columns and an \"inactive\" list with \n",
    "    all remaining columns. \n",
    "    \"\"\"\n",
    "    # grab a single random column\n",
    "    active = [np.random.choice(X.columns)]\n",
    "    \n",
    "    # make a list of all the other columns\n",
    "    inactive = list(X.columns)\n",
    "    inactive.remove(active[0])\n",
    "    return active, inactive\n",
    "\n",
    "# Write a function to change the status of a column.\n",
    "def move(col, active, inactive, mode = \"activate\"):\n",
    "    \"\"\"\n",
    "    Activate or deactivate a single column\n",
    "    by moving it between the active and inactive\n",
    "    lists. \n",
    "    Does not modify active or inactive -- instead \n",
    "    returns copies. \n",
    "    \"\"\"\n",
    "    # create copies\n",
    "    new_active = active.copy()\n",
    "    new_inactive = inactive.copy()\n",
    "    \n",
    "    if mode == \"activate\":\n",
    "        # if we are activating a column\n",
    "        new_inactive.remove(col)\n",
    "        # add col to the active list\n",
    "        new_active.append(col)\n",
    "    \n",
    "    # if we are deactivating a column    \n",
    "    if mode == \"deactivate\":\n",
    "        new_active.remove(col)\n",
    "        new_inactive.append(col)\n",
    "    \n",
    "    # return copies\n",
    "    return new_active, new_inactive"
   ]
  },
  {
   "cell_type": "markdown",
   "metadata": {},
   "source": [
    "### Illustrations"
   ]
  },
  {
   "cell_type": "code",
   "execution_count": 20,
   "metadata": {},
   "outputs": [
    {
     "data": {
      "text/plain": [
       "(['Sex'],\n",
       " ['Pclass',\n",
       "  'Age',\n",
       "  'Siblings/Spouses Aboard',\n",
       "  'Parents/Children Aboard',\n",
       "  'Fare'])"
      ]
     },
     "execution_count": 20,
     "metadata": {},
     "output_type": "execute_result"
    }
   ],
   "source": [
    "active, inactive = initialize_lists()\n",
    "active, inactive"
   ]
  },
  {
   "cell_type": "code",
   "execution_count": 22,
   "metadata": {},
   "outputs": [
    {
     "data": {
      "text/plain": [
       "([],\n",
       " ['Pclass',\n",
       "  'Age',\n",
       "  'Siblings/Spouses Aboard',\n",
       "  'Parents/Children Aboard',\n",
       "  'Fare',\n",
       "  'Sex'])"
      ]
     },
     "execution_count": 22,
     "metadata": {},
     "output_type": "execute_result"
    }
   ],
   "source": [
    "move(\"Sex\", active, inactive, mode = \"deactivate\")"
   ]
  },
  {
   "cell_type": "markdown",
   "metadata": {},
   "source": [
    "## Part B: Greedy Stagewise Selection\n",
    "Write a function which alternates between adding or rejecting a randomly chosen column at each step. If all columns are inactive then always add, if all columns are active then always remove. The idea behind this code is to perform a random walk through the space of possible columns for a set amount of time, and then choose the best subset as found so far."
   ]
  },
  {
   "cell_type": "code",
   "execution_count": 28,
   "metadata": {},
   "outputs": [],
   "source": [
    "def greedy_stagewise_feature_selection(model, X, y, n_iters = 20):\n",
    "    \n",
    "    # initialize with a single, randomly selected column\n",
    "    active, inactive = initialize_lists()\n",
    "    \n",
    "    # initialize the best CV score\n",
    "    best_CV = 0\n",
    "    \n",
    "    # main loop, n_iters times\n",
    "    for i in range(n_iters):\n",
    "        # alternate between activating and deactivating\n",
    "        for mode in [\"activate\", \"deactivate\"]:\n",
    "        \n",
    "            # if mode is \"activate\" and there are any remaining inactive\n",
    "            # columns, randomly select one. Otherwise, continue\n",
    "            if (mode == \"activate\"):\n",
    "                if len(inactive) > 0:\n",
    "                    col = np.random.choice(inactive)\n",
    "                else: \n",
    "                    continue\n",
    "            \n",
    "            # if mode is \"deactivate\" and if there at least 2 active\n",
    "            # columns then pick a random active column\n",
    "            if (mode == \"deactivate\") and (len(active) >= 2):\n",
    "                col = np.random.choice(active)\n",
    "            \n",
    "            # create a new, proposed active list by moving\n",
    "            # col between lists\n",
    "            \n",
    "            new_active, new_inactive = move(col, active, inactive, mode)\n",
    "            \n",
    "            # compute the CV score\n",
    "            CV_score = cross_val_score(LR, X[new_active], y, cv = 10).mean()\n",
    "            \n",
    "            # if the CV score is an improvement, update the \n",
    "            # active and inactive column sets. \n",
    "            \n",
    "            if (CV_score > best_CV) and (len(new_active) >=1):\n",
    "                best_CV = CV_score\n",
    "                active = new_active\n",
    "                inactive = new_inactive\n",
    "            \n",
    "            print(\"Number of columns: \" + str(len(active)) + \". CV score: \" + str(best_CV))\n",
    "    return active"
   ]
  },
  {
   "cell_type": "code",
   "execution_count": 30,
   "metadata": {},
   "outputs": [
    {
     "name": "stdout",
     "output_type": "stream",
     "text": [
      "Number of columns: 2. CV score: 0.676608784473953\n",
      "Number of columns: 2. CV score: 0.676608784473953\n",
      "Number of columns: 3. CV score: 0.7035750766087845\n",
      "Number of columns: 3. CV score: 0.7035750766087845\n",
      "Number of columns: 3. CV score: 0.7035750766087845\n",
      "Number of columns: 3. CV score: 0.7035750766087845\n",
      "Number of columns: 3. CV score: 0.7035750766087845\n",
      "Number of columns: 3. CV score: 0.7035750766087845\n",
      "Number of columns: 3. CV score: 0.7035750766087845\n",
      "Number of columns: 3. CV score: 0.7035750766087845\n",
      "Number of columns: 4. CV score: 0.7970505617977527\n",
      "Number of columns: 4. CV score: 0.7970505617977527\n",
      "Number of columns: 4. CV score: 0.7970505617977527\n",
      "Number of columns: 4. CV score: 0.7970505617977527\n",
      "Number of columns: 4. CV score: 0.7970505617977527\n",
      "Number of columns: 4. CV score: 0.7970505617977527\n",
      "Number of columns: 4. CV score: 0.7970505617977527\n",
      "Number of columns: 4. CV score: 0.7970505617977527\n",
      "Number of columns: 4. CV score: 0.7970505617977527\n",
      "Number of columns: 4. CV score: 0.7970505617977527\n"
     ]
    }
   ],
   "source": [
    "best_cols = greedy_stagewise_feature_selection(LR, X, y, n_iters = 10)"
   ]
  },
  {
   "cell_type": "code",
   "execution_count": 29,
   "metadata": {},
   "outputs": [
    {
     "data": {
      "text/plain": [
       "['Pclass', 'Sex', 'Age', 'Fare']"
      ]
     },
     "execution_count": 29,
     "metadata": {},
     "output_type": "execute_result"
    }
   ],
   "source": [
    "best_cols"
   ]
  },
  {
   "cell_type": "code",
   "execution_count": null,
   "metadata": {},
   "outputs": [],
   "source": []
  }
 ],
 "metadata": {
  "kernelspec": {
   "display_name": "Python 3 (ipykernel)",
   "language": "python",
   "name": "python3"
  },
  "language_info": {
   "codemirror_mode": {
    "name": "ipython",
    "version": 3
   },
   "file_extension": ".py",
   "mimetype": "text/x-python",
   "name": "python",
   "nbconvert_exporter": "python",
   "pygments_lexer": "ipython3",
   "version": "3.9.13"
  }
 },
 "nbformat": 4,
 "nbformat_minor": 4
}
