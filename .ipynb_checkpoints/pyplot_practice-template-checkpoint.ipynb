{
 "cells": [
  {
   "cell_type": "markdown",
   "id": "53fc636a",
   "metadata": {},
   "source": [
    "# PyPlot Practice\n",
    "After we review in class the self-study material proceed to try and answer the following questions."
   ]
  },
  {
   "cell_type": "markdown",
   "id": "bec7cbe5",
   "metadata": {},
   "source": [
    "### Construct a 2x2 plot with the following subplots\n",
    "Using the Gaussian data below construct a figure with 2x2 subplots to meet the following specification. In each case annotate, title and label your plots, provide legends if appropriate, color etc. to improve readability and presentation.\n",
    "\n",
    "1) Top left: plot a scatter plot of 1000 2d gaussian random variables, 500 drawn from a gaussian distribution with mean [0,0] and covariance [[1,0], [0,1]] and 500 from a gaussian distribution with mean [3,3] and covariance [[3,1], [1,1]].\n",
    "\n",
    "2) Top right: plot sin(x) vs cos(x) for x between -pi and pi. Color them differently!\n",
    "\n",
    "3) Simulate a fair coin flip 100 times (virtually using numpy), noting the number of times tails (or heads) is thrown. Do this 1000 times and plot a histogram of your results.\n",
    "\n",
    "4) Bottem left: plot a heatmap of the function \n",
    "$f(x,y) = yx^2$ on $[-1,1]^2$"
   ]
  },
  {
   "cell_type": "code",
   "execution_count": 25,
   "id": "41568533",
   "metadata": {},
   "outputs": [],
   "source": [
    "from matplotlib import pyplot as plt\n",
    "import numpy as np"
   ]
  },
  {
   "cell_type": "code",
   "execution_count": 35,
   "id": "0ddb4209",
   "metadata": {},
   "outputs": [],
   "source": [
    "plt.scatter()"
   ]
  },
  {
   "cell_type": "code",
   "execution_count": null,
   "id": "136cc936",
   "metadata": {},
   "outputs": [],
   "source": []
  },
  {
   "cell_type": "code",
   "execution_count": null,
   "id": "6b3e11ad",
   "metadata": {},
   "outputs": [],
   "source": []
  },
  {
   "cell_type": "code",
   "execution_count": null,
   "id": "0359f3d3",
   "metadata": {},
   "outputs": [],
   "source": []
  }
 ],
 "metadata": {
  "kernelspec": {
   "display_name": "Python 3 (ipykernel)",
   "language": "python",
   "name": "python3"
  },
  "language_info": {
   "codemirror_mode": {
    "name": "ipython",
    "version": 3
   },
   "file_extension": ".py",
   "mimetype": "text/x-python",
   "name": "python",
   "nbconvert_exporter": "python",
   "pygments_lexer": "ipython3",
   "version": "3.9.13"
  }
 },
 "nbformat": 4,
 "nbformat_minor": 5
}
