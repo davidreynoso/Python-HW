{
 "cells": [
  {
   "cell_type": "markdown",
   "metadata": {},
   "source": [
    "# Debugging Practice or: How I Learned to Stop Worrying and Love Error Tracebacks"
   ]
  },
  {
   "cell_type": "markdown",
   "metadata": {},
   "source": [
    "### Group Members and Roles\n",
    "\n",
    "- Group Member 1 (Role)\n",
    "- Group Member 2 (Role)\n",
    "- Group Member 3 (Role)\n",
    "\n",
    "## Introduction\n",
    "\n",
    "At this point in the course, assignments are starting to ask for more involved code with more moving parts. As you've probably found out, the types of errors you can get are starting to get more complicated and harder to solve. In this notebook, you will find and fix some common mistakes, as well as learn how to read an error traceback to get more information about more complicated issues."
   ]
  },
  {
   "cell_type": "markdown",
   "metadata": {},
   "source": [
    "## Part 1: Basic errors\n",
    "\n",
    "Sometimes you just write the wrong thing. You'll never (I repeat: never!) stop making these kinds of errors, but it's good to know what some of the most common ones look like and have an immediate idea of how to fix them.\n",
    "\n",
    "Below are some snippets of code with some simple errors (typos, missing indents/colons, off-by-one errors). Read through the code and error messages and fix them. Discuss with your team exactly what went wrong. **Some of the code snippets may have multiple errors!**"
   ]
  },
  {
   "cell_type": "code",
   "execution_count": 2,
   "metadata": {},
   "outputs": [
    {
     "name": "stdout",
     "output_type": "stream",
     "text": [
      "i is 1: {i}\n"
     ]
    }
   ],
   "source": [
    "for i in range(3):\n",
    "    if i == 1:\n",
    "        print(\"i is 1: )\n",
    "    \n",
    "# Expected output:\n",
    "# i is 1: 1"
   ]
  },
  {
   "cell_type": "code",
   "execution_count": 2,
   "metadata": {},
   "outputs": [
    {
     "ename": "SyntaxError",
     "evalue": "invalid syntax (<ipython-input-2-b27ae78cef31>, line 2)",
     "output_type": "error",
     "traceback": [
      "\u001b[0;36m  File \u001b[0;32m\"<ipython-input-2-b27ae78cef31>\"\u001b[0;36m, line \u001b[0;32m2\u001b[0m\n\u001b[0;31m    return 2x+1\u001b[0m\n\u001b[0m            ^\u001b[0m\n\u001b[0;31mSyntaxError\u001b[0m\u001b[0;31m:\u001b[0m invalid syntax\n"
     ]
    }
   ],
   "source": [
    "def times_two_add_1(x):\n",
    "    return 2x+1\n",
    "\n",
    "times_two_add_1(5)\n",
    "# Expected output:\n",
    "# 11"
   ]
  },
  {
   "cell_type": "code",
   "execution_count": 3,
   "metadata": {},
   "outputs": [
    {
     "ename": "NameError",
     "evalue": "name 'return_first_last' is not defined",
     "output_type": "error",
     "traceback": [
      "\u001b[0;31m---------------------------------------------------------------------------\u001b[0m",
      "\u001b[0;31mNameError\u001b[0m                                 Traceback (most recent call last)",
      "\u001b[0;32m<ipython-input-3-672a5e582ba6>\u001b[0m in \u001b[0;36m<module>\u001b[0;34m\u001b[0m\n\u001b[1;32m      2\u001b[0m     \u001b[0;32mreturn\u001b[0m \u001b[0;34m(\u001b[0m\u001b[0mL\u001b[0m\u001b[0;34m[\u001b[0m\u001b[0;36m0\u001b[0m\u001b[0;34m]\u001b[0m\u001b[0;34m,\u001b[0m \u001b[0mL\u001b[0m\u001b[0;34m[\u001b[0m\u001b[0;34m-\u001b[0m\u001b[0;36m1\u001b[0m\u001b[0;34m]\u001b[0m\u001b[0;34m)\u001b[0m\u001b[0;34m\u001b[0m\u001b[0m\n\u001b[1;32m      3\u001b[0m \u001b[0;34m\u001b[0m\u001b[0m\n\u001b[0;32m----> 4\u001b[0;31m \u001b[0mreturn_first_last\u001b[0m\u001b[0;34m(\u001b[0m\u001b[0;34m[\u001b[0m\u001b[0;36m1\u001b[0m\u001b[0;34m,\u001b[0m\u001b[0;36m2\u001b[0m\u001b[0;34m,\u001b[0m\u001b[0;36m3\u001b[0m\u001b[0;34m,\u001b[0m\u001b[0;36m4\u001b[0m\u001b[0;34m,\u001b[0m\u001b[0;36m5\u001b[0m\u001b[0;34m]\u001b[0m\u001b[0;34m)\u001b[0m\u001b[0;34m\u001b[0m\u001b[0m\n\u001b[0m\u001b[1;32m      5\u001b[0m \u001b[0;31m# Expected output:\u001b[0m\u001b[0;34m\u001b[0m\u001b[0;34m\u001b[0m\u001b[0m\n\u001b[1;32m      6\u001b[0m \u001b[0;31m# (1,5)\u001b[0m\u001b[0;34m\u001b[0m\u001b[0;34m\u001b[0m\u001b[0m\n",
      "\u001b[0;31mNameError\u001b[0m: name 'return_first_last' is not defined"
     ]
    }
   ],
   "source": [
    "def return_first_and_last(L):\n",
    "    return (L[0], L[-1])\n",
    "\n",
    "return_first_last([1,2,3,4,5])\n",
    "# Expected output:\n",
    "# (1,5)"
   ]
  },
  {
   "cell_type": "markdown",
   "metadata": {},
   "source": [
    "The error message below tells us that we have a syntax error on line 6 (we will learn more about reading tracebacks below). However, `return out_list` is a perfectly correct line of code. What went wrong?"
   ]
  },
  {
   "cell_type": "code",
   "execution_count": 4,
   "metadata": {},
   "outputs": [
    {
     "ename": "SyntaxError",
     "evalue": "invalid syntax (<ipython-input-4-6da6918fed96>, line 9)",
     "output_type": "error",
     "traceback": [
      "\u001b[0;36m  File \u001b[0;32m\"<ipython-input-4-6da6918fed96>\"\u001b[0;36m, line \u001b[0;32m9\u001b[0m\n\u001b[0;31m    return out_list\u001b[0m\n\u001b[0m         ^\u001b[0m\n\u001b[0;31mSyntaxError\u001b[0m\u001b[0;31m:\u001b[0m invalid syntax\n"
     ]
    }
   ],
   "source": [
    "str = \"I am the very model of a modern Major-General\"\n",
    "\n",
    "def first_and_last_each_word(S):\n",
    "    \"\"\"Returns the first and last character of each word.\"\"\"\n",
    "    out_list = []\n",
    "    for word in S.split():\n",
    "        out_list.append((word[0], word[-1])\n",
    "                        \n",
    "    return out_list\n",
    "                        \n",
    "first_and_last_each_word(str)\n",
    "\n",
    "# Expected output:\n",
    "# [('I', 'I'),\n",
    "# ('a', 'm'),\n",
    "# ('t', 'e'),\n",
    "# ('v', 'y'),\n",
    "# ('m', 'l'),\n",
    "# ('o', 'f'),\n",
    "# ('a', 'a'),\n",
    "# ('m', 'n'),\n",
    "# ('M', 'l')]"
   ]
  },
  {
   "cell_type": "markdown",
   "metadata": {},
   "source": [
    "A useful heuristic: if you get a syntax error on a line of code that you are sure is correct, check the previous line! It is usually a missing opening/closing parenthesis (or bracket, comma, colon, etc.).\n",
    "\n",
    "This one has three errors:"
   ]
  },
  {
   "cell_type": "code",
   "execution_count": 5,
   "metadata": {},
   "outputs": [
    {
     "ename": "SyntaxError",
     "evalue": "invalid syntax (<ipython-input-5-e1752f4e1e61>, line 3)",
     "output_type": "error",
     "traceback": [
      "\u001b[0;36m  File \u001b[0;32m\"<ipython-input-5-e1752f4e1e61>\"\u001b[0;36m, line \u001b[0;32m3\u001b[0m\n\u001b[0;31m    if animals[i] = \"mountain chicken\":\u001b[0m\n\u001b[0m                  ^\u001b[0m\n\u001b[0;31mSyntaxError\u001b[0m\u001b[0;31m:\u001b[0m invalid syntax\n"
     ]
    }
   ],
   "source": [
    "animals = [\"cat\", \"dog\", \"turtle\", \"mountain chicken\"]\n",
    "for i in range(animals):\n",
    "    if animals[i] = \"mountain chicken\":\n",
    "        print(\"My favorite animal is the {animals[i]}.\")\n",
    "\n",
    "# Expected output:\n",
    "# My favorite animal is the mountain chicken."
   ]
  },
  {
   "cell_type": "code",
   "execution_count": 6,
   "metadata": {},
   "outputs": [
    {
     "ename": "SyntaxError",
     "evalue": "invalid syntax (<ipython-input-6-0922329acf35>, line 6)",
     "output_type": "error",
     "traceback": [
      "\u001b[0;36m  File \u001b[0;32m\"<ipython-input-6-0922329acf35>\"\u001b[0;36m, line \u001b[0;32m6\u001b[0m\n\u001b[0;31m    \"also\":4}\u001b[0m\n\u001b[0m         ^\u001b[0m\n\u001b[0;31mSyntaxError\u001b[0m\u001b[0;31m:\u001b[0m invalid syntax\n"
     ]
    }
   ],
   "source": [
    "word_frequencies = {\n",
    " \"hello\":2,\n",
    " \"my\":15,\n",
    " \"the\":40, \n",
    " \"Emma\":23\n",
    " \"also\":4}\n",
    "\n",
    "word_frequencies(\"emma\")\n",
    "# Expected output:\n",
    "# 23"
   ]
  },
  {
   "cell_type": "code",
   "execution_count": 7,
   "metadata": {},
   "outputs": [
    {
     "ename": "TypeError",
     "evalue": "__init__() takes 3 positional arguments but 4 were given",
     "output_type": "error",
     "traceback": [
      "\u001b[0;31m---------------------------------------------------------------------------\u001b[0m",
      "\u001b[0;31mTypeError\u001b[0m                                 Traceback (most recent call last)",
      "\u001b[0;32m<ipython-input-7-9655b9d8fb02>\u001b[0m in \u001b[0;36m<module>\u001b[0;34m\u001b[0m\n\u001b[1;32m      7\u001b[0m         \u001b[0;32mreturn\u001b[0m \u001b[0;34mf\"Student {studentID}: {self.name}, year {self.year}\"\u001b[0m\u001b[0;34m\u001b[0m\u001b[0m\n\u001b[1;32m      8\u001b[0m \u001b[0;34m\u001b[0m\u001b[0m\n\u001b[0;32m----> 9\u001b[0;31m \u001b[0mS\u001b[0m \u001b[0;34m=\u001b[0m \u001b[0mStudent\u001b[0m\u001b[0;34m(\u001b[0m\u001b[0;34m\"Aidan Hutchinson\"\u001b[0m\u001b[0;34m,\u001b[0m \u001b[0;36m5\u001b[0m\u001b[0;34m,\u001b[0m \u001b[0;36m4227\u001b[0m\u001b[0;34m)\u001b[0m\u001b[0;34m\u001b[0m\u001b[0m\n\u001b[0m\u001b[1;32m     10\u001b[0m \u001b[0mprint\u001b[0m\u001b[0;34m(\u001b[0m\u001b[0mS\u001b[0m\u001b[0;34m)\u001b[0m\u001b[0;34m\u001b[0m\u001b[0m\n\u001b[1;32m     11\u001b[0m \u001b[0;31m# Expected output:\u001b[0m\u001b[0;34m\u001b[0m\u001b[0;34m\u001b[0m\u001b[0m\n",
      "\u001b[0;31mTypeError\u001b[0m: __init__() takes 3 positional arguments but 4 were given"
     ]
    }
   ],
   "source": [
    "class Student:\n",
    "    def __init__(name, year, studentID):\n",
    "        self.name = name\n",
    "        self.year = year\n",
    "        self.studentID = studentID\n",
    "    def __str__(self):\n",
    "        return f\"Student {studentID}: {self.name}, year {self.year}\"\n",
    "\n",
    "S = Student(\"Aidan Hutchinson\", 5, 4227)\n",
    "print(S)\n",
    "# Expected output:\n",
    "# Student 4227, Aidan Hutchinson, year 5"
   ]
  },
  {
   "cell_type": "markdown",
   "metadata": {},
   "source": [
    "This next one is really tricky, but comes up a lot. If you can't figure out what went wrong here, uncomment the line of code below for an explanation."
   ]
  },
  {
   "cell_type": "code",
   "execution_count": 8,
   "metadata": {},
   "outputs": [
    {
     "data": {
      "text/plain": [
       "True"
      ]
     },
     "execution_count": 8,
     "metadata": {},
     "output_type": "execute_result"
    }
   ],
   "source": [
    "S = \"Give me a ping, Vasili. 1 ping only.\"\n",
    "def check_if_number_in_string(S, n):\n",
    "    \"\"\"Check if n (an integer from 0-9) appears in the string S.\"\"\"\n",
    "    for char in S:\n",
    "        if char == str(n):\n",
    "            return True    \n",
    "    return False\n",
    "\n",
    "check_if_number_in_string(S, 1)\n",
    "# Expected output:\n",
    "# True"
   ]
  },
  {
   "cell_type": "code",
   "execution_count": 9,
   "metadata": {},
   "outputs": [],
   "source": [
    "# This function works!\n",
    "def shift(S):\n",
    "    \"\"\"Shifts the characters of a string by one ASCII value.\"\"\"\n",
    "    out = \"\"\n",
    "    for char in S:\n",
    "        out += chr(ord(char) - 1)\n",
    "        # ord() converts a single character to an int,\n",
    "        # chr() converts an int to a character.\n",
    "    return out\n",
    "\n",
    "#UNCOMMENT THE BELOW LINE FOR AN EXPLANATION!\n",
    "#print(shift('Jo!pof!pg!uif!tojqqfut!bcpwf-!xf!bddjefoubmmz!sf.efgjofe!uif!tus!gvodujpo!up!cf!b!wbsjbcmf!)uif!tusjoh!(J!bn!uif!wfsz!npefm!pg!b!npefso!Nbkps.Hfofsbm(*/!Opx!uibu!xf(sf!uszjoh!up!vtf!uif!psjhjobm!gvodujpo!up!dbtu!bo!joufhfs!joup!b!tusjoh-!xf!bsf!hfuujoh!bo!fssps!tjodf!uif!lfsofm!tujmm!uijolt!tus!jt!uif!bcpwf!tusjoh/!Uijt!jt!sfbmmz!ibse!up!opujdf\"!Up!gjy!uijt-!dibohf!uif!wbsjbcmf!obnf!jo!uif!dfmm!xifsf!uif!tusjoh!jt!efgjofe!up!tpnfuijoh!fmtf-!uifo!sftubsu!uif!lfsofm!boe!sf.svo!fbdi!dfmm/\\x0b!!!!!\\x0bUxp!ublfbxbzt!gspn!uijt;\\x0b2*!Cf!dbsfgvm!xjui!xibu!zpv!obnf!zpvs!wbsjbcmft\"!Vomjol!D,,-!Qzuipo!xjmm!mfu!zpv!bddjefoubmmz!pwfsxsjuf!cvjmu.jo!gvodujpot/\\x0b3*!Jg!zpv(sf!hfuujoh!bo!fssps!uibu!epfto(u!nblf!boz!tfotf-!usz!sftubsujoh!uif!lfsofm/!Zpv!nbz!ibwf!dibohfe!tpnfuijoh!fbsmjfs!uibu!jt!dbvtjoh!uif!dvssfou!fssps/'))"
   ]
  },
  {
   "cell_type": "markdown",
   "metadata": {},
   "source": [
    "## Part 2) More complicated errors, and how to read a traceback\n",
    "\n",
    "Once your code becomes more complicated, it can be harder to track down where an error is happening in your code. In these cases, the error traceback (the long scary message that shows up when you get an error) is a really helpful tool for figuring out exactly what went wrong. Below is a sample piece of code. Read through it with your group to try to understand what it is doing. As written it will throw an error. Below, we will go through exactly how to read the error traceback to figure out what is going on."
   ]
  },
  {
   "cell_type": "code",
   "execution_count": 10,
   "metadata": {},
   "outputs": [
    {
     "ename": "TypeError",
     "evalue": "unsupported operand type(s) for +: 'int' and 'str'",
     "output_type": "error",
     "traceback": [
      "\u001b[0;31m---------------------------------------------------------------------------\u001b[0m",
      "\u001b[0;31mTypeError\u001b[0m                                 Traceback (most recent call last)",
      "\u001b[0;32m<ipython-input-10-4ca6d57fac06>\u001b[0m in \u001b[0;36m<module>\u001b[0;34m\u001b[0m\n\u001b[1;32m     45\u001b[0m \u001b[0;34m\u001b[0m\u001b[0m\n\u001b[1;32m     46\u001b[0m \u001b[0mC\u001b[0m \u001b[0;34m=\u001b[0m \u001b[0mCourse\u001b[0m\u001b[0;34m(\u001b[0m\u001b[0;34m\"PIC 16A\"\u001b[0m\u001b[0;34m,\u001b[0m \u001b[0mstudents\u001b[0m\u001b[0;34m,\u001b[0m \u001b[0;34m\"Program In Computing\"\u001b[0m\u001b[0;34m,\u001b[0m \u001b[0mclass_size\u001b[0m\u001b[0;34m=\u001b[0m\u001b[0;36m5\u001b[0m\u001b[0;34m)\u001b[0m\u001b[0;34m\u001b[0m\u001b[0m\n\u001b[0;32m---> 47\u001b[0;31m \u001b[0mC\u001b[0m\u001b[0;34m.\u001b[0m\u001b[0mis_mostly_upperclassmen\u001b[0m\u001b[0;34m(\u001b[0m\u001b[0;34m)\u001b[0m\u001b[0;34m\u001b[0m\u001b[0m\n\u001b[0m\u001b[1;32m     48\u001b[0m \u001b[0;31m# Expected output:\u001b[0m\u001b[0;34m\u001b[0m\u001b[0;34m\u001b[0m\u001b[0m\n\u001b[1;32m     49\u001b[0m \u001b[0;31m# True\u001b[0m\u001b[0;34m\u001b[0m\u001b[0;34m\u001b[0m\u001b[0m\n",
      "\u001b[0;32m<ipython-input-10-4ca6d57fac06>\u001b[0m in \u001b[0;36mis_mostly_upperclassmen\u001b[0;34m(self)\u001b[0m\n\u001b[1;32m     28\u001b[0m         \u001b[0;34m\"\"\"Return True if average student year is greater than or equal to 3.\"\"\"\u001b[0m\u001b[0;34m\u001b[0m\u001b[0m\n\u001b[1;32m     29\u001b[0m         \u001b[0mstudent_years\u001b[0m \u001b[0;34m=\u001b[0m \u001b[0;34m[\u001b[0m\u001b[0mstudent\u001b[0m\u001b[0;34m.\u001b[0m\u001b[0myear\u001b[0m \u001b[0;32mfor\u001b[0m \u001b[0mstudent\u001b[0m \u001b[0;32min\u001b[0m \u001b[0mself\u001b[0m\u001b[0;34m.\u001b[0m\u001b[0mstudents\u001b[0m\u001b[0;34m]\u001b[0m\u001b[0;34m\u001b[0m\u001b[0m\n\u001b[0;32m---> 30\u001b[0;31m         \u001b[0;32mreturn\u001b[0m \u001b[0mmean\u001b[0m\u001b[0;34m(\u001b[0m\u001b[0mstudent_years\u001b[0m\u001b[0;34m)\u001b[0m \u001b[0;34m>=\u001b[0m \u001b[0;36m3\u001b[0m\u001b[0;34m\u001b[0m\u001b[0m\n\u001b[0m\u001b[1;32m     31\u001b[0m \u001b[0;34m\u001b[0m\u001b[0m\n\u001b[1;32m     32\u001b[0m     \u001b[0;32mdef\u001b[0m \u001b[0mfirst_on_waitlist\u001b[0m\u001b[0;34m(\u001b[0m\u001b[0mself\u001b[0m\u001b[0;34m)\u001b[0m\u001b[0;34m:\u001b[0m\u001b[0;34m\u001b[0m\u001b[0m\n",
      "\u001b[0;32m<ipython-input-10-4ca6d57fac06>\u001b[0m in \u001b[0;36mmean\u001b[0;34m(L)\u001b[0m\n\u001b[1;32m      1\u001b[0m \u001b[0;32mdef\u001b[0m \u001b[0mmean\u001b[0m\u001b[0;34m(\u001b[0m\u001b[0mL\u001b[0m\u001b[0;34m)\u001b[0m\u001b[0;34m:\u001b[0m\u001b[0;34m\u001b[0m\u001b[0m\n\u001b[1;32m      2\u001b[0m     \u001b[0;34m\"\"\"Compute the mean of a list of numbers.\"\"\"\u001b[0m\u001b[0;34m\u001b[0m\u001b[0m\n\u001b[0;32m----> 3\u001b[0;31m     \u001b[0;32mreturn\u001b[0m \u001b[0msum\u001b[0m\u001b[0;34m(\u001b[0m\u001b[0mL\u001b[0m\u001b[0;34m)\u001b[0m \u001b[0;34m/\u001b[0m \u001b[0mlen\u001b[0m\u001b[0;34m(\u001b[0m\u001b[0mL\u001b[0m\u001b[0;34m)\u001b[0m\u001b[0;34m\u001b[0m\u001b[0m\n\u001b[0m\u001b[1;32m      4\u001b[0m \u001b[0;34m\u001b[0m\u001b[0m\n\u001b[1;32m      5\u001b[0m \u001b[0;32mclass\u001b[0m \u001b[0mStudent\u001b[0m\u001b[0;34m:\u001b[0m\u001b[0;34m\u001b[0m\u001b[0m\n",
      "\u001b[0;31mTypeError\u001b[0m: unsupported operand type(s) for +: 'int' and 'str'"
     ]
    }
   ],
   "source": [
    "def mean(L):\n",
    "    \"\"\"Compute the mean of a list of numbers.\"\"\"\n",
    "    return sum(L) / len(L)\n",
    "\n",
    "class Student:\n",
    "    \"\"\"A student class containing each student's name, year, and student ID.\"\"\"\n",
    "    def __init__(self, name, year, studentID):\n",
    "        self.name = name\n",
    "        self.year = year\n",
    "        self.studentID = studentID\n",
    "    def __str__(self):\n",
    "        return f\"Student {self.studentID}: {self.name}, year {self.year}\" \n",
    "    def __repr__(self):\n",
    "        return self.__str__()\n",
    "class Course:\n",
    "    \"\"\"A course class containing a course's name, list of students, and type of class.\"\"\"\n",
    "    def __init__(self, course_name, students, class_type, class_size=30):\n",
    "        self.course_name = course_name\n",
    "        self.students = students\n",
    "        self.class_type = class_type\n",
    "        self.class_size = class_size\n",
    "    \n",
    "    def is_full(self):\n",
    "        \"\"\"Return True if more than 30 students in class.\"\"\"\n",
    "        return len(self.students) > 30\n",
    "    \n",
    "    def is_mostly_upperclassmen(self):\n",
    "        \"\"\"Return True if average student year is greater than or equal to 3.\"\"\"\n",
    "        student_years = [student.year for student in self.students]\n",
    "        return mean(student_years) >= 3\n",
    "    \n",
    "    def first_on_waitlist(self):\n",
    "        \"\"\"If the class is full, returns the first student after the class size.\"\"\"\n",
    "        return self.students[self.class_size+1]\n",
    "    \n",
    "    def get_upperclassmen_dict(self):\n",
    "        \"\"\"Make a dictionary whose keys are the upperclassmen in the class and the items are their years and student IDs.\"\"\"\n",
    "        out_dictionary = {}\n",
    "        for student in self.students:\n",
    "            if student.year >= 3:\n",
    "                out_dictionary[student.name] = (student.year, student.studentID)\n",
    "            return out_dictionary\n",
    "        \n",
    "students = [Student(\"Alice\", \"1\", \"1111\"), Student(\"Bob\", \"3\", \"2222\"), Student(\"Carol\", \"4\", \"3333\"), Student(\"David\", \"4\", \"4444\")]\n",
    "\n",
    "C = Course(\"PIC 16A\", students, \"Program In Computing\", class_size=5)\n",
    "C.is_mostly_upperclassmen()\n",
    "# Expected output:\n",
    "# True"
   ]
  },
  {
   "cell_type": "markdown",
   "metadata": {},
   "source": [
    "The error traceback tells us a) what went wrong (what kind of error), and b) exactly where and how the line that caused the error got called.  In general, we read error tracebacks from bottom to top. Let's go through it block by block, starting with the very last line:\n",
    "\n",
    "**Note: this traceback will look different on your machine-- the general principles will still apply!**\n",
    "\n",
    "\n",
    "`TypeError: unsupported operand type(s) for +: int and 'str'`\n",
    "\n",
    "This tells us what the error is: somewhere we're trying to add an integer to a string. But where? This is what the block above tells us:\n",
    "\n",
    "`<ipython-input-122-c1ddda007901> in mean(L)\n",
    "      1 def mean(L):\n",
    "      2     \"\"\"Compute the mean of a list of numbers.\"\"\"\n",
    "----> 3     return sum(L) / len(L)\n",
    "      4 \n",
    "      5 class Student:`\n",
    "\n",
    "The first part in the angle brackets `<ipython-input-122-c1ddda007901>` tells us what file the error is located in. In just Jupyter Notebook this is usually some weird ipython thing that isn't relevant to us. If you are using a HW.py file, it may tell you that the error is from the code in that file, not the Jupyter Notebook, which can be useful information.\n",
    "\n",
    "The next part `in mean(L)` tells us that the error is occuring in the `mean()` function at line 3 (indicated by the `---->`). Now we can use a bit of deduction: the error tells us that the issue is with addition (int to str), so this probably means the issue is with the `sum()` call. In particular, the elements of L are probably strings, not numbers. Now we know a lot more about what went wrong. But what is L? Let's look at the next block above.\n",
    "\n",
    "`<ipython-input-122-c1ddda007901> in is_mostly_upperclassmen(self)\n",
    "     22         \"\"\"Return True if average student year is greater than or equal to 3.\"\"\"\n",
    "     23         student_years = [student.year for student in self.students]\n",
    "---> 24         return mean(student_years) >= 3\n",
    "     25 students = [Student(\"Alice\", \"1\", \"1111\"), Student(\"Bob\", \"3\", \"2222\"), Student(\"Carol\", \"4\", \"3333\")]\n",
    "     26` \n",
    "     \n",
    "This tells us that `is_mostly_upperclassmen` is calling the `mean` function. What is the problem? In line 24 we see that it's likely that `student_years` is causing the issue. What is `student_years`? In the line above we can take a look: it's the `year` attribute for each student in the student list `self.students`. But where is `self.students` coming from?\n",
    "\n",
    "`<ipython-input-122-c1ddda007901> in <module>\n",
    "     26 \n",
    "     27 C = Course(\"PIC 16A\", students, \"Program In Computing\")\n",
    "---> 28 C.is_mostly_upperclassmen()`\n",
    "\n",
    "Now we're at the top level. What we've learned so far is that:\n",
    "1. The error is coming from an integer being added to a string...\n",
    "2. which is occurring in the `mean()` function...\n",
    "3. which is being called by `is_mostly_upperclassmen()`...\n",
    "4. which is trying to get the `year` attribute of each student in the `students` list...\n",
    "5. in the `C` instance of the course class.\n",
    "\n",
    "If we take a look at the definition of `students` (which is being used in line 27 to make `C`), we can see the issue: the `year` for each student is (as expected) a string, not an integer! We can either fix this manually, or better yet add a check in the `__init__` function of `Student` to make sure this doesn't happen.\n",
    "\n",
    "**This is the general process of reading error tracebacks: start at the bottom and figure out what went wrong, then work your way back up block by block to see where and why the problem line is being called.**\n",
    "\n",
    "The next line of code also throws an error. Read the traceback to figure out what went wrong and how to fix it!\n",
    "\n",
    "Hint: There are no syntax errors in the code, but you may want to add a conditional statement!"
   ]
  },
  {
   "cell_type": "code",
   "execution_count": 11,
   "metadata": {},
   "outputs": [
    {
     "ename": "IndexError",
     "evalue": "list index out of range",
     "output_type": "error",
     "traceback": [
      "\u001b[0;31m---------------------------------------------------------------------------\u001b[0m",
      "\u001b[0;31mIndexError\u001b[0m                                Traceback (most recent call last)",
      "\u001b[0;32m<ipython-input-11-b60c90f6cdf0>\u001b[0m in \u001b[0;36m<module>\u001b[0;34m\u001b[0m\n\u001b[1;32m      2\u001b[0m \u001b[0;34m\u001b[0m\u001b[0m\n\u001b[1;32m      3\u001b[0m \u001b[0mC\u001b[0m \u001b[0;34m=\u001b[0m \u001b[0mCourse\u001b[0m\u001b[0;34m(\u001b[0m\u001b[0;34m\"PIC 16A\"\u001b[0m\u001b[0;34m,\u001b[0m \u001b[0mstudents\u001b[0m\u001b[0;34m,\u001b[0m \u001b[0;34m\"Program In Computing\"\u001b[0m\u001b[0;34m,\u001b[0m \u001b[0;36m5\u001b[0m\u001b[0;34m)\u001b[0m\u001b[0;34m\u001b[0m\u001b[0m\n\u001b[0;32m----> 4\u001b[0;31m \u001b[0mprint\u001b[0m\u001b[0;34m(\u001b[0m\u001b[0mC\u001b[0m\u001b[0;34m.\u001b[0m\u001b[0mfirst_on_waitlist\u001b[0m\u001b[0;34m(\u001b[0m\u001b[0;34m)\u001b[0m\u001b[0;34m)\u001b[0m\u001b[0;34m\u001b[0m\u001b[0m\n\u001b[0m\u001b[1;32m      5\u001b[0m \u001b[0;31m# Expected output:\u001b[0m\u001b[0;34m\u001b[0m\u001b[0;34m\u001b[0m\u001b[0m\n\u001b[1;32m      6\u001b[0m \u001b[0;31m# None\u001b[0m\u001b[0;34m\u001b[0m\u001b[0;34m\u001b[0m\u001b[0m\n",
      "\u001b[0;32m<ipython-input-10-4ca6d57fac06>\u001b[0m in \u001b[0;36mfirst_on_waitlist\u001b[0;34m(self)\u001b[0m\n\u001b[1;32m     32\u001b[0m     \u001b[0;32mdef\u001b[0m \u001b[0mfirst_on_waitlist\u001b[0m\u001b[0;34m(\u001b[0m\u001b[0mself\u001b[0m\u001b[0;34m)\u001b[0m\u001b[0;34m:\u001b[0m\u001b[0;34m\u001b[0m\u001b[0m\n\u001b[1;32m     33\u001b[0m         \u001b[0;34m\"\"\"If the class is full, returns the first student after the class size.\"\"\"\u001b[0m\u001b[0;34m\u001b[0m\u001b[0m\n\u001b[0;32m---> 34\u001b[0;31m         \u001b[0;32mreturn\u001b[0m \u001b[0mself\u001b[0m\u001b[0;34m.\u001b[0m\u001b[0mstudents\u001b[0m\u001b[0;34m[\u001b[0m\u001b[0mself\u001b[0m\u001b[0;34m.\u001b[0m\u001b[0mclass_size\u001b[0m\u001b[0;34m+\u001b[0m\u001b[0;36m1\u001b[0m\u001b[0;34m]\u001b[0m\u001b[0;34m\u001b[0m\u001b[0m\n\u001b[0m\u001b[1;32m     35\u001b[0m \u001b[0;34m\u001b[0m\u001b[0m\n\u001b[1;32m     36\u001b[0m     \u001b[0;32mdef\u001b[0m \u001b[0mget_upperclassmen_dict\u001b[0m\u001b[0;34m(\u001b[0m\u001b[0mself\u001b[0m\u001b[0;34m)\u001b[0m\u001b[0;34m:\u001b[0m\u001b[0;34m\u001b[0m\u001b[0m\n",
      "\u001b[0;31mIndexError\u001b[0m: list index out of range"
     ]
    }
   ],
   "source": [
    "students = [Student(\"Alice\", \"1\", \"1111\"), Student(\"Bob\", \"3\", \"2222\"), Student(\"Carol\", \"4\", \"3333\"), Student(\"David\", \"4\", \"4444\")]\n",
    "\n",
    "C = Course(\"PIC 16A\", students, \"Program In Computing\", 5)\n",
    "print(C.first_on_waitlist())\n",
    "# Expected output:\n",
    "# None\n",
    "C = Course(\"PIC 16A\", students, \"Program In Computing\", 3)\n",
    "print(C.first_on_waitlist())\n",
    "# Expected output:\n",
    "# Student 4444: David, year 4"
   ]
  },
  {
   "cell_type": "markdown",
   "metadata": {},
   "source": [
    "The traceback won't help you much on this one since the code runs without an error, but something unintended is still happening. Can you track it down? Using a similar process as reading the traceback (going from low to high level, line by line) will help."
   ]
  },
  {
   "cell_type": "code",
   "execution_count": 12,
   "metadata": {},
   "outputs": [
    {
     "ename": "KeyError",
     "evalue": "'Carol'",
     "output_type": "error",
     "traceback": [
      "\u001b[0;31m---------------------------------------------------------------------------\u001b[0m",
      "\u001b[0;31mKeyError\u001b[0m                                  Traceback (most recent call last)",
      "\u001b[0;32m<ipython-input-12-8b517ff608cf>\u001b[0m in \u001b[0;36m<module>\u001b[0;34m\u001b[0m\n\u001b[1;32m      2\u001b[0m \u001b[0;34m\u001b[0m\u001b[0m\n\u001b[1;32m      3\u001b[0m \u001b[0mC\u001b[0m \u001b[0;34m=\u001b[0m \u001b[0mCourse\u001b[0m\u001b[0;34m(\u001b[0m\u001b[0;34m\"PIC 16A\"\u001b[0m\u001b[0;34m,\u001b[0m \u001b[0mstudents\u001b[0m\u001b[0;34m,\u001b[0m \u001b[0;34m\"Program In Computing\"\u001b[0m\u001b[0;34m)\u001b[0m\u001b[0;34m\u001b[0m\u001b[0m\n\u001b[0;32m----> 4\u001b[0;31m \u001b[0mC\u001b[0m\u001b[0;34m.\u001b[0m\u001b[0mget_upperclassmen_dict\u001b[0m\u001b[0;34m(\u001b[0m\u001b[0;34m)\u001b[0m\u001b[0;34m[\u001b[0m\u001b[0;34m\"Carol\"\u001b[0m\u001b[0;34m]\u001b[0m\u001b[0;34m\u001b[0m\u001b[0m\n\u001b[0m\u001b[1;32m      5\u001b[0m \u001b[0;31m# Expected output:\u001b[0m\u001b[0;34m\u001b[0m\u001b[0;34m\u001b[0m\u001b[0m\n\u001b[1;32m      6\u001b[0m \u001b[0;31m# (4, '3333')\u001b[0m\u001b[0;34m\u001b[0m\u001b[0;34m\u001b[0m\u001b[0m\n",
      "\u001b[0;31mKeyError\u001b[0m: 'Carol'"
     ]
    }
   ],
   "source": [
    "students = [Student(\"Alice\", 1, \"1111\"), Student(\"Bob\", 3, \"2222\"), Student(\"Carol\", 4, \"3333\"), Student(\"David\", \"4\", \"4444\")]\n",
    "\n",
    "C = Course(\"PIC 16A\", students, \"Program In Computing\")\n",
    "C.get_upperclassmen_dict()[\"Carol\"]\n",
    "# Expected output:\n",
    "# (4, '3333')"
   ]
  }
 ],
 "metadata": {
  "anaconda-cloud": {},
  "kernelspec": {
   "display_name": "Python 3 (ipykernel)",
   "language": "python",
   "name": "python3"
  },
  "language_info": {
   "codemirror_mode": {
    "name": "ipython",
    "version": 3
   },
   "file_extension": ".py",
   "mimetype": "text/x-python",
   "name": "python",
   "nbconvert_exporter": "python",
   "pygments_lexer": "ipython3",
   "version": "3.9.13"
  },
  "vscode": {
   "interpreter": {
    "hash": "73d4432868320a00a661825a130a6a730fb841689da4e88a956d3ce9f1015fce"
   }
  }
 },
 "nbformat": 4,
 "nbformat_minor": 4
}
